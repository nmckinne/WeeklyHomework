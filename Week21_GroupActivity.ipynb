{
 "cells": [
  {
   "cell_type": "markdown",
   "metadata": {},
   "source": [
    "# Question 1. Make sure you can get the API from class to work in Azure. Take a screenshot of it working and add the image to a jupyter notebook."
   ]
  },
  {
   "cell_type": "markdown",
   "metadata": {},
   "source": [
    "![alt text](FlaskAppScreenshot.png \"Flask App Screenshot\")"
   ]
  },
  {
   "cell_type": "markdown",
   "metadata": {},
   "source": [
    "# Question 2. Loop through the API data in python using your new endpoint and save the results to a dataframe."
   ]
  },
  {
   "cell_type": "code",
   "execution_count": 4,
   "metadata": {
    "scrolled": true
   },
   "outputs": [],
   "source": [
    "#import necessary modules\n",
    "import requests\n",
    "import pandas as pd\n",
    "import json\n",
    "import bs4\n",
    "import re\n",
    "\n",
    "#set base url\n",
    "base_url = \"https://flask-app-class-demo-44.azurewebsites.net/gdp/\"\n",
    "#list comprehension to create a list of years to loop through\n",
    "years = [year for year in range(1960,2020,1)]\n",
    "#create an empty gdp list\n",
    "gdp_list=[]\n",
    "\n",
    "#create a for loop to loop through years\n",
    "for year in years:\n",
    "   \n",
    "    #set full url path\n",
    "    full_request = base_url + str(year)\n",
    "\n",
    "    #perform a request\n",
    "    req = requests.get(full_request)\n",
    "    #optional: set request encoding\n",
    "    req.encoding = 'utf-8'\n",
    "    #save request as text\n",
    "    content=req.text\n",
    "    #convert to a readible format using beautiful soup\n",
    "    new_content=bs4.BeautifulSoup(content)\n",
    "    # save the new output as a text string\n",
    "    content_string=new_content.text\n",
    "    #Remove all text outside of curly braces\n",
    "    modified_string = re.search('{.*}',content_string).group(0)\n",
    "    #replace single quotes with double quotes\n",
    "    json_string = modified_string.replace(\"'\", '\"')\n",
    "    #load string as json\n",
    "    gdp_data = json.loads(json_string)\n",
    "\n",
    "    #append each desired output of string to a list\n",
    "    gdp_list.append([gdp_data['indicator']['id'], gdp_data['indicator']['value'], gdp_data['country']['id'], gdp_data['country']['value'], gdp_data['countryiso3code'],\n",
    "                        gdp_data['date'], gdp_data['value']])\n",
    "\n",
    "#turn list into dataframe\n",
    "gdp_df = pd.DataFrame(gdp_list, columns=['indicator_id', 'indicator_value', 'country_id', 'country_value','countryiso3code','date','value'])\n"
   ]
  },
  {
   "cell_type": "code",
   "execution_count": 5,
   "metadata": {},
   "outputs": [
    {
     "data": {
      "text/html": [
       "<div>\n",
       "<style scoped>\n",
       "    .dataframe tbody tr th:only-of-type {\n",
       "        vertical-align: middle;\n",
       "    }\n",
       "\n",
       "    .dataframe tbody tr th {\n",
       "        vertical-align: top;\n",
       "    }\n",
       "\n",
       "    .dataframe thead th {\n",
       "        text-align: right;\n",
       "    }\n",
       "</style>\n",
       "<table border=\"1\" class=\"dataframe\">\n",
       "  <thead>\n",
       "    <tr style=\"text-align: right;\">\n",
       "      <th></th>\n",
       "      <th>indicator_id</th>\n",
       "      <th>indicator_value</th>\n",
       "      <th>country_id</th>\n",
       "      <th>country_value</th>\n",
       "      <th>countryiso3code</th>\n",
       "      <th>date</th>\n",
       "      <th>value</th>\n",
       "    </tr>\n",
       "  </thead>\n",
       "  <tbody>\n",
       "    <tr>\n",
       "      <th>0</th>\n",
       "      <td>NY.GDP.MKTP.CD</td>\n",
       "      <td>GDP (current US$)</td>\n",
       "      <td>US</td>\n",
       "      <td>United States</td>\n",
       "      <td>USA</td>\n",
       "      <td>1960</td>\n",
       "      <td>543300000000</td>\n",
       "    </tr>\n",
       "    <tr>\n",
       "      <th>1</th>\n",
       "      <td>NY.GDP.MKTP.CD</td>\n",
       "      <td>GDP (current US$)</td>\n",
       "      <td>US</td>\n",
       "      <td>United States</td>\n",
       "      <td>USA</td>\n",
       "      <td>1961</td>\n",
       "      <td>563300000000</td>\n",
       "    </tr>\n",
       "    <tr>\n",
       "      <th>2</th>\n",
       "      <td>NY.GDP.MKTP.CD</td>\n",
       "      <td>GDP (current US$)</td>\n",
       "      <td>US</td>\n",
       "      <td>United States</td>\n",
       "      <td>USA</td>\n",
       "      <td>1962</td>\n",
       "      <td>605100000000</td>\n",
       "    </tr>\n",
       "    <tr>\n",
       "      <th>3</th>\n",
       "      <td>NY.GDP.MKTP.CD</td>\n",
       "      <td>GDP (current US$)</td>\n",
       "      <td>US</td>\n",
       "      <td>United States</td>\n",
       "      <td>USA</td>\n",
       "      <td>1963</td>\n",
       "      <td>638600000000</td>\n",
       "    </tr>\n",
       "    <tr>\n",
       "      <th>4</th>\n",
       "      <td>NY.GDP.MKTP.CD</td>\n",
       "      <td>GDP (current US$)</td>\n",
       "      <td>US</td>\n",
       "      <td>United States</td>\n",
       "      <td>USA</td>\n",
       "      <td>1964</td>\n",
       "      <td>685800000000</td>\n",
       "    </tr>\n",
       "  </tbody>\n",
       "</table>\n",
       "</div>"
      ],
      "text/plain": [
       "     indicator_id    indicator_value country_id  country_value  \\\n",
       "0  NY.GDP.MKTP.CD  GDP (current US$)         US  United States   \n",
       "1  NY.GDP.MKTP.CD  GDP (current US$)         US  United States   \n",
       "2  NY.GDP.MKTP.CD  GDP (current US$)         US  United States   \n",
       "3  NY.GDP.MKTP.CD  GDP (current US$)         US  United States   \n",
       "4  NY.GDP.MKTP.CD  GDP (current US$)         US  United States   \n",
       "\n",
       "  countryiso3code  date         value  \n",
       "0             USA  1960  543300000000  \n",
       "1             USA  1961  563300000000  \n",
       "2             USA  1962  605100000000  \n",
       "3             USA  1963  638600000000  \n",
       "4             USA  1964  685800000000  "
      ]
     },
     "execution_count": 5,
     "metadata": {},
     "output_type": "execute_result"
    }
   ],
   "source": [
    "gdp_df.head()"
   ]
  },
  {
   "cell_type": "code",
   "execution_count": null,
   "metadata": {},
   "outputs": [],
   "source": []
  },
  {
   "cell_type": "code",
   "execution_count": null,
   "metadata": {},
   "outputs": [],
   "source": []
  },
  {
   "cell_type": "code",
   "execution_count": null,
   "metadata": {},
   "outputs": [],
   "source": []
  },
  {
   "cell_type": "code",
   "execution_count": null,
   "metadata": {},
   "outputs": [],
   "source": []
  },
  {
   "cell_type": "code",
   "execution_count": null,
   "metadata": {},
   "outputs": [],
   "source": []
  }
 ],
 "metadata": {
  "kernelspec": {
   "display_name": "Python 3",
   "language": "python",
   "name": "python3"
  },
  "language_info": {
   "codemirror_mode": {
    "name": "ipython",
    "version": 3
   },
   "file_extension": ".py",
   "mimetype": "text/x-python",
   "name": "python",
   "nbconvert_exporter": "python",
   "pygments_lexer": "ipython3",
   "version": "3.8.5"
  }
 },
 "nbformat": 4,
 "nbformat_minor": 4
}
