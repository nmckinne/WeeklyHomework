{
 "cells": [
  {
   "cell_type": "markdown",
   "metadata": {},
   "source": [
    "# Analysis of Belize Airbnb Data"
   ]
  },
  {
   "cell_type": "code",
   "execution_count": 21,
   "metadata": {},
   "outputs": [],
   "source": [
    "#setup notenook by importing necessary modules\n",
    "import pandas as pd\n",
    "import numpy as np\n",
    "import matplotlib.pyplot as plt\n",
    "import seaborn as sns\n",
    "import scipy.stats"
   ]
  },
  {
   "cell_type": "code",
   "execution_count": 2,
   "metadata": {},
   "outputs": [
    {
     "data": {
      "text/html": [
       "<div>\n",
       "<style scoped>\n",
       "    .dataframe tbody tr th:only-of-type {\n",
       "        vertical-align: middle;\n",
       "    }\n",
       "\n",
       "    .dataframe tbody tr th {\n",
       "        vertical-align: top;\n",
       "    }\n",
       "\n",
       "    .dataframe thead th {\n",
       "        text-align: right;\n",
       "    }\n",
       "</style>\n",
       "<table border=\"1\" class=\"dataframe\">\n",
       "  <thead>\n",
       "    <tr style=\"text-align: right;\">\n",
       "      <th></th>\n",
       "      <th>id</th>\n",
       "      <th>name</th>\n",
       "      <th>host_id</th>\n",
       "      <th>host_name</th>\n",
       "      <th>neighbourhood_group</th>\n",
       "      <th>neighbourhood</th>\n",
       "      <th>latitude</th>\n",
       "      <th>longitude</th>\n",
       "      <th>room_type</th>\n",
       "      <th>price</th>\n",
       "      <th>minimum_nights</th>\n",
       "      <th>number_of_reviews</th>\n",
       "      <th>last_review</th>\n",
       "      <th>reviews_per_month</th>\n",
       "      <th>calculated_host_listings_count</th>\n",
       "      <th>availability_365</th>\n",
       "    </tr>\n",
       "  </thead>\n",
       "  <tbody>\n",
       "    <tr>\n",
       "      <th>0</th>\n",
       "      <td>36666</td>\n",
       "      <td>Mo's Cozy Casa w/ veranda &amp; access to dock</td>\n",
       "      <td>157752</td>\n",
       "      <td>Monique</td>\n",
       "      <td>Belize</td>\n",
       "      <td>Belize Islands</td>\n",
       "      <td>17.74786</td>\n",
       "      <td>-88.02398</td>\n",
       "      <td>Entire home/apt</td>\n",
       "      <td>141</td>\n",
       "      <td>3</td>\n",
       "      <td>250</td>\n",
       "      <td>2/23/2021</td>\n",
       "      <td>2.00</td>\n",
       "      <td>5</td>\n",
       "      <td>225</td>\n",
       "    </tr>\n",
       "    <tr>\n",
       "      <th>1</th>\n",
       "      <td>36690</td>\n",
       "      <td>Mo's Cozy Cabana w/ comfy veranda &amp; access to ...</td>\n",
       "      <td>157752</td>\n",
       "      <td>Monique</td>\n",
       "      <td>Belize</td>\n",
       "      <td>Belize Islands</td>\n",
       "      <td>17.74832</td>\n",
       "      <td>-88.02474</td>\n",
       "      <td>Entire home/apt</td>\n",
       "      <td>71</td>\n",
       "      <td>3</td>\n",
       "      <td>316</td>\n",
       "      <td>2/19/2021</td>\n",
       "      <td>2.46</td>\n",
       "      <td>5</td>\n",
       "      <td>164</td>\n",
       "    </tr>\n",
       "    <tr>\n",
       "      <th>2</th>\n",
       "      <td>108932</td>\n",
       "      <td>Purple House eco solar  w/ ocean &amp; wildlife views</td>\n",
       "      <td>563377</td>\n",
       "      <td>Michael</td>\n",
       "      <td>Belize</td>\n",
       "      <td>Belize Islands</td>\n",
       "      <td>17.73221</td>\n",
       "      <td>-88.03824</td>\n",
       "      <td>Entire home/apt</td>\n",
       "      <td>191</td>\n",
       "      <td>2</td>\n",
       "      <td>30</td>\n",
       "      <td>3/14/2020</td>\n",
       "      <td>0.78</td>\n",
       "      <td>1</td>\n",
       "      <td>364</td>\n",
       "    </tr>\n",
       "    <tr>\n",
       "      <th>3</th>\n",
       "      <td>110483</td>\n",
       "      <td>Michelo's fuchsia suite</td>\n",
       "      <td>567809</td>\n",
       "      <td>Michel</td>\n",
       "      <td>Stann Creek</td>\n",
       "      <td>Stann Creek Mainland</td>\n",
       "      <td>16.52114</td>\n",
       "      <td>-88.36926</td>\n",
       "      <td>Hotel room</td>\n",
       "      <td>121</td>\n",
       "      <td>1</td>\n",
       "      <td>27</td>\n",
       "      <td>2/24/2020</td>\n",
       "      <td>0.29</td>\n",
       "      <td>3</td>\n",
       "      <td>331</td>\n",
       "    </tr>\n",
       "    <tr>\n",
       "      <th>4</th>\n",
       "      <td>120115</td>\n",
       "      <td>Seaside Villas Second Floor Unit  #4</td>\n",
       "      <td>604999</td>\n",
       "      <td>Bobbi</td>\n",
       "      <td>Belize</td>\n",
       "      <td>Belize Islands</td>\n",
       "      <td>17.74166</td>\n",
       "      <td>-88.02395</td>\n",
       "      <td>Entire home/apt</td>\n",
       "      <td>343</td>\n",
       "      <td>1</td>\n",
       "      <td>30</td>\n",
       "      <td>3/18/2020</td>\n",
       "      <td>0.64</td>\n",
       "      <td>22</td>\n",
       "      <td>203</td>\n",
       "    </tr>\n",
       "  </tbody>\n",
       "</table>\n",
       "</div>"
      ],
      "text/plain": [
       "       id                                               name  host_id  \\\n",
       "0   36666         Mo's Cozy Casa w/ veranda & access to dock   157752   \n",
       "1   36690  Mo's Cozy Cabana w/ comfy veranda & access to ...   157752   \n",
       "2  108932  Purple House eco solar  w/ ocean & wildlife views   563377   \n",
       "3  110483                            Michelo's fuchsia suite   567809   \n",
       "4  120115               Seaside Villas Second Floor Unit  #4   604999   \n",
       "\n",
       "  host_name neighbourhood_group         neighbourhood  latitude  longitude  \\\n",
       "0   Monique              Belize        Belize Islands  17.74786  -88.02398   \n",
       "1   Monique              Belize        Belize Islands  17.74832  -88.02474   \n",
       "2   Michael              Belize        Belize Islands  17.73221  -88.03824   \n",
       "3    Michel         Stann Creek  Stann Creek Mainland  16.52114  -88.36926   \n",
       "4     Bobbi              Belize        Belize Islands  17.74166  -88.02395   \n",
       "\n",
       "         room_type  price  minimum_nights  number_of_reviews last_review  \\\n",
       "0  Entire home/apt    141               3                250   2/23/2021   \n",
       "1  Entire home/apt     71               3                316   2/19/2021   \n",
       "2  Entire home/apt    191               2                 30   3/14/2020   \n",
       "3       Hotel room    121               1                 27   2/24/2020   \n",
       "4  Entire home/apt    343               1                 30   3/18/2020   \n",
       "\n",
       "   reviews_per_month  calculated_host_listings_count  availability_365  \n",
       "0               2.00                               5               225  \n",
       "1               2.46                               5               164  \n",
       "2               0.78                               1               364  \n",
       "3               0.29                               3               331  \n",
       "4               0.64                              22               203  "
      ]
     },
     "execution_count": 2,
     "metadata": {},
     "output_type": "execute_result"
    }
   ],
   "source": [
    "#read in the Belize data from the csv file/\n",
    "belize_path = '../week_05/belize_airbnb_listings.csv'\n",
    "\n",
    "#read in the data and save as a dataframe\n",
    "belize_df = pd.read_csv(belize_path)\n",
    "belize_df.head()"
   ]
  },
  {
   "cell_type": "markdown",
   "metadata": {},
   "source": [
    "1.\tCreate two histograms in a subplot (vertical or horizontal is fine) that show the distribution of reviews_per_month and number_of_reviews in Belize Airbnb data \n",
    "   \n",
    "   a.\tHow do you choose your bin size?\n",
    "   \n",
    "   When determining bin size and bin number you need to consider the range of your dataset and the number of observations. There are many methods to consider when determining bin size and number of bins.  Two that I looked into were the Freedman-Diaconis Method and the Rice Rule.  Both consider the total number of observations when determining the bin number and the Freedman Diaconis Method also considers the IQR.  The Rice Rule gave me a lot less bins for both datasets shown below.  In addition to considering your range of values and number of observations, you want to make sure you are capturing all secondary maximums and creating widths that are easy to interpret when reading the graph.  I chose to use 24 bins for the reviews per month data because it was close to the estimate given by the Rice Rule and broke it up well so that each bin was about 0.25 in width.  I chose to use 31 bins for the number of reviews data because each bin was about 10 in width and the number of bins was close to the estimate found by the Rice Rule.  \n",
    "\n",
    "\n"
   ]
  },
  {
   "cell_type": "code",
   "execution_count": 77,
   "metadata": {},
   "outputs": [
    {
     "name": "stdout",
     "output_type": "stream",
     "text": [
      "0.08375992599356602\n",
      "70.55880159748439\n",
      "28.17576510491762\n"
     ]
    },
    {
     "data": {
      "text/plain": [
       "<AxesSubplot:>"
      ]
     },
     "execution_count": 77,
     "metadata": {},
     "output_type": "execute_result"
    },
    {
     "data": {
      "image/png": "[encoded data removed]",
      "text/plain": [
       "<Figure size 432x288 with 1 Axes>"
      ]
     },
     "metadata": {
      "needs_background": "light"
     },
     "output_type": "display_data"
    }
   ],
   "source": [
    "#Find the max of the reviews per month data\n",
    "belize_df['reviews_per_month'].max()\n",
    "#Find the min of the data\n",
    "belize_df['reviews_per_month'].min()\n",
    "#Find the range of the data\n",
    "reviews_per_month_range = belize_df['reviews_per_month'].max()-belize_df['reviews_per_month'].min()\n",
    "#Find the number of observations, n\n",
    "n = len(belize_df['reviews_per_month'])\n",
    "#Find the IQR\n",
    "reviews_iqr = scipy.stats.iqr(belize_df['reviews_per_month'], nan_policy='omit')\n",
    "#Calculate bin width using the Freedman-Diaconis Method\n",
    "bin_width_reviews = (2 * reviews_iqr)/(n**(1/3))\n",
    "print(bin_width_reviews)\n",
    "#Find number of bins\n",
    "num_bins_reviews = reviews_per_month_range/bin_width_reviews\n",
    "print(num_bins_reviews)\n",
    "#Use Rice Rule to find number of bins\n",
    "num_bins_2 = 2 * (n**(1/3))\n",
    "print(num_bins_2)\n",
    "belize_df['reviews_per_month'].hist(bins=24)"
   ]
  },
  {
   "cell_type": "code",
   "execution_count": 79,
   "metadata": {},
   "outputs": [
    {
     "name": "stdout",
     "output_type": "stream",
     "text": [
      "1.8455576913836582\n",
      "171.22195717603785\n",
      "28.17576510491762\n"
     ]
    },
    {
     "data": {
      "text/plain": [
       "<AxesSubplot:>"
      ]
     },
     "execution_count": 79,
     "metadata": {},
     "output_type": "execute_result"
    },
    {
     "data": {
      "image/png": "[encoded data removed]",
      "text/plain": [
       "<Figure size 432x288 with 1 Axes>"
      ]
     },
     "metadata": {
      "needs_background": "light"
     },
     "output_type": "display_data"
    }
   ],
   "source": [
    "#Find the max of the number of reviews data\n",
    "belize_df['number_of_reviews'].max()\n",
    "#Find the min of the data\n",
    "belize_df['number_of_reviews'].min()\n",
    "#Find the range of the data\n",
    "num_reviews_range = belize_df['number_of_reviews'].max()-belize_df['number_of_reviews'].min()\n",
    "#Find the number of observations, n\n",
    "n = len(belize_df['number_of_reviews'])\n",
    "#Find the IQR\n",
    "num_reviews_iqr = scipy.stats.iqr(belize_df['number_of_reviews'], nan_policy='omit')\n",
    "#Calculate bin width using the Freedman-Diaconis Method\n",
    "bin_width_num_reviews = (2 * num_reviews_iqr)/(n**(1/3))\n",
    "print(bin_width_num_reviews)\n",
    "#Find number of bins\n",
    "num_bins_num_reviews = num_reviews_range/bin_width_num_reviews\n",
    "print(num_bins_num_reviews)\n",
    "#Use Rice Rule to find number of bins\n",
    "num_bins_2 = 2 * (n**(1/3))\n",
    "print(num_bins_2)\n",
    "#display histogram\n",
    "belize_df['number_of_reviews'].hist(bins=31)"
   ]
  },
  {
   "cell_type": "code",
   "execution_count": 80,
   "metadata": {},
   "outputs": [
    {
     "data": {
      "image/png": "[encoded data removed]",
      "text/plain": [
       "<Figure size 432x288 with 2 Axes>"
      ]
     },
     "metadata": {
      "needs_background": "light"
     },
     "output_type": "display_data"
    }
   ],
   "source": [
    "#Put the plots together as subplots \n",
    "fig, axs = plt.subplots(2, 1, constrained_layout=True)\n",
    "axs[0].hist(belize_df['reviews_per_month'], bins=24)\n",
    "axs[0].set_xlabel('Reviews Per Month')\n",
    "fig.suptitle('Belize Airbnb Reviews', fontsize=16)\n",
    "\n",
    "axs[1].hist(belize_df['number_of_reviews'], bins=31)\n",
    "axs[1].set_xlabel('Total Number of Reviews')\n",
    "\n",
    "\n",
    "plt.show()"
   ]
  },
  {
   "cell_type": "markdown",
   "metadata": {},
   "source": [
    "2.\tCreate a box and whisker plot for availability_365. What does this show you?\n",
    "The box and whisker plot for the availability_365 data shows you the median for the Belize Airbnb availability for rentals which is 349 days of availability. This is represented with the orange line.  The top of the box is the 75th percentile of the dataset (meaning 75% of the data falls below that value) and the bottom of the box is the 25th percentile of the dataset.  For this data, 50% of the rentals have availability 221 and 364 days of the year.  The whiskers on the box and whisker plot represent the 5th and 95th percentile of the data.  This gives you a snapshot of the median of the data and the variability of the data.  "
   ]
  },
  {
   "cell_type": "code",
   "execution_count": 90,
   "metadata": {},
   "outputs": [
    {
     "name": "stdout",
     "output_type": "stream",
     "text": [
      "349.0\n",
      "221.0\n",
      "364.0\n",
      "0.0\n",
      "365.0\n"
     ]
    },
    {
     "data": {
      "image/png": "[encoded data removed]",
      "text/plain": [
       "<Figure size 432x288 with 1 Axes>"
      ]
     },
     "metadata": {
      "needs_background": "light"
     },
     "output_type": "display_data"
    }
   ],
   "source": [
    "plt.boxplot(belize_df['availability_365'], showfliers=None)\n",
    "plt.title(\"Available Rental Days for Belize Airbnb Properties\")\n",
    "plt.ylabel(\"Number of Available Days\")\n",
    "print(belize_df['availability_365'].median())\n",
    "q3, q1 = np.percentile(belize_df['availability_365'], [75 ,25])\n",
    "print(q1)\n",
    "print(q3)\n",
    "bottom_5, top_5 = np.percentile(belize_df['availability_365'], [5,95])\n",
    "print(bottom_5)\n",
    "print(top_5)"
   ]
  },
  {
   "cell_type": "markdown",
   "metadata": {},
   "source": [
    "3.\tWhat is the probability that the price for an Airbnb is under 50 dollars.\n",
    "There is only a 1.75 percent chance that a rental property in Belize is under 50 dollars per night.\n",
    "\n",
    "a.\tWhat do you notice about these records? Hint: look at the other columns.\n",
    "These rentals tend to be shared rooms or private rooms (not full houses). The location seems to be mostly Cayo and Belize Mainland.\n",
    "\n",
    "b.\tWhat distribution does this data most closely fit?\n",
    "This data most closely resembles a logarithmic (log normal) distribution."
   ]
  },
  {
   "cell_type": "code",
   "execution_count": 110,
   "metadata": {},
   "outputs": [
    {
     "name": "stdout",
     "output_type": "stream",
     "text": [
      "49\n",
      "2796\n",
      "1.7525035765379111\n"
     ]
    },
    {
     "data": {
      "text/html": [
       "<div>\n",
       "<style scoped>\n",
       "    .dataframe tbody tr th:only-of-type {\n",
       "        vertical-align: middle;\n",
       "    }\n",
       "\n",
       "    .dataframe tbody tr th {\n",
       "        vertical-align: top;\n",
       "    }\n",
       "\n",
       "    .dataframe thead th {\n",
       "        text-align: right;\n",
       "    }\n",
       "</style>\n",
       "<table border=\"1\" class=\"dataframe\">\n",
       "  <thead>\n",
       "    <tr style=\"text-align: right;\">\n",
       "      <th></th>\n",
       "      <th>id</th>\n",
       "      <th>name</th>\n",
       "      <th>host_id</th>\n",
       "      <th>host_name</th>\n",
       "      <th>neighbourhood_group</th>\n",
       "      <th>neighbourhood</th>\n",
       "      <th>latitude</th>\n",
       "      <th>longitude</th>\n",
       "      <th>room_type</th>\n",
       "      <th>price</th>\n",
       "      <th>minimum_nights</th>\n",
       "      <th>number_of_reviews</th>\n",
       "      <th>last_review</th>\n",
       "      <th>reviews_per_month</th>\n",
       "      <th>calculated_host_listings_count</th>\n",
       "      <th>availability_365</th>\n",
       "    </tr>\n",
       "  </thead>\n",
       "  <tbody>\n",
       "    <tr>\n",
       "      <th>134</th>\n",
       "      <td>4005831</td>\n",
       "      <td>Home away from home,  Shared dormitory, NO AC</td>\n",
       "      <td>9315171</td>\n",
       "      <td>Julia</td>\n",
       "      <td>Belize</td>\n",
       "      <td>Belize Mainland</td>\n",
       "      <td>17.51482</td>\n",
       "      <td>-88.22233</td>\n",
       "      <td>Private room</td>\n",
       "      <td>20</td>\n",
       "      <td>1</td>\n",
       "      <td>2</td>\n",
       "      <td>3/1/2020</td>\n",
       "      <td>0.03</td>\n",
       "      <td>10</td>\n",
       "      <td>365</td>\n",
       "    </tr>\n",
       "    <tr>\n",
       "      <th>148</th>\n",
       "      <td>4304743</td>\n",
       "      <td>DORMITORY Bed #1 of 6, on Maya Ruin</td>\n",
       "      <td>2084006</td>\n",
       "      <td>Lower Dover</td>\n",
       "      <td>Cayo</td>\n",
       "      <td>Cayo</td>\n",
       "      <td>17.21379</td>\n",
       "      <td>-88.94974</td>\n",
       "      <td>Shared room</td>\n",
       "      <td>36</td>\n",
       "      <td>1</td>\n",
       "      <td>1</td>\n",
       "      <td>2/10/2020</td>\n",
       "      <td>0.08</td>\n",
       "      <td>4</td>\n",
       "      <td>365</td>\n",
       "    </tr>\n",
       "    <tr>\n",
       "      <th>172</th>\n",
       "      <td>4936432</td>\n",
       "      <td>Home away from home,  Shared dormitory, NO AC</td>\n",
       "      <td>9315171</td>\n",
       "      <td>Julia</td>\n",
       "      <td>Belize</td>\n",
       "      <td>Belize Mainland</td>\n",
       "      <td>17.51426</td>\n",
       "      <td>-88.22121</td>\n",
       "      <td>Shared room</td>\n",
       "      <td>20</td>\n",
       "      <td>1</td>\n",
       "      <td>16</td>\n",
       "      <td>2/4/2020</td>\n",
       "      <td>0.24</td>\n",
       "      <td>10</td>\n",
       "      <td>365</td>\n",
       "    </tr>\n",
       "    <tr>\n",
       "      <th>189</th>\n",
       "      <td>5509363</td>\n",
       "      <td>Yaxche Jungle Camp, Dormitory</td>\n",
       "      <td>6960726</td>\n",
       "      <td>Yaxche Jungle Camp</td>\n",
       "      <td>Cayo</td>\n",
       "      <td>Cayo</td>\n",
       "      <td>17.15125</td>\n",
       "      <td>-88.66244</td>\n",
       "      <td>Shared room</td>\n",
       "      <td>24</td>\n",
       "      <td>1</td>\n",
       "      <td>30</td>\n",
       "      <td>2/25/2020</td>\n",
       "      <td>0.42</td>\n",
       "      <td>2</td>\n",
       "      <td>365</td>\n",
       "    </tr>\n",
       "    <tr>\n",
       "      <th>196</th>\n",
       "      <td>5717367</td>\n",
       "      <td>Comfortable and Ecological Camping</td>\n",
       "      <td>29641332</td>\n",
       "      <td>Minerva</td>\n",
       "      <td>Cayo</td>\n",
       "      <td>Cayo</td>\n",
       "      <td>17.05410</td>\n",
       "      <td>-89.11378</td>\n",
       "      <td>Entire home/apt</td>\n",
       "      <td>30</td>\n",
       "      <td>1</td>\n",
       "      <td>6</td>\n",
       "      <td>10/16/2017</td>\n",
       "      <td>0.09</td>\n",
       "      <td>1</td>\n",
       "      <td>365</td>\n",
       "    </tr>\n",
       "  </tbody>\n",
       "</table>\n",
       "</div>"
      ],
      "text/plain": [
       "          id                                           name   host_id  \\\n",
       "134  4005831  Home away from home,  Shared dormitory, NO AC   9315171   \n",
       "148  4304743            DORMITORY Bed #1 of 6, on Maya Ruin   2084006   \n",
       "172  4936432  Home away from home,  Shared dormitory, NO AC   9315171   \n",
       "189  5509363                  Yaxche Jungle Camp, Dormitory   6960726   \n",
       "196  5717367             Comfortable and Ecological Camping  29641332   \n",
       "\n",
       "              host_name neighbourhood_group    neighbourhood  latitude  \\\n",
       "134               Julia              Belize  Belize Mainland  17.51482   \n",
       "148         Lower Dover                Cayo             Cayo  17.21379   \n",
       "172               Julia              Belize  Belize Mainland  17.51426   \n",
       "189  Yaxche Jungle Camp                Cayo             Cayo  17.15125   \n",
       "196             Minerva                Cayo             Cayo  17.05410   \n",
       "\n",
       "     longitude        room_type  price  minimum_nights  number_of_reviews  \\\n",
       "134  -88.22233     Private room     20               1                  2   \n",
       "148  -88.94974      Shared room     36               1                  1   \n",
       "172  -88.22121      Shared room     20               1                 16   \n",
       "189  -88.66244      Shared room     24               1                 30   \n",
       "196  -89.11378  Entire home/apt     30               1                  6   \n",
       "\n",
       "    last_review  reviews_per_month  calculated_host_listings_count  \\\n",
       "134    3/1/2020               0.03                              10   \n",
       "148   2/10/2020               0.08                               4   \n",
       "172    2/4/2020               0.24                              10   \n",
       "189   2/25/2020               0.42                               2   \n",
       "196  10/16/2017               0.09                               1   \n",
       "\n",
       "     availability_365  \n",
       "134               365  \n",
       "148               365  \n",
       "172               365  \n",
       "189               365  \n",
       "196               365  "
      ]
     },
     "execution_count": 110,
     "metadata": {},
     "output_type": "execute_result"
    },
    {
     "data": {
      "image/png": "[encoded data removed]",
      "text/plain": [
       "<Figure size 432x288 with 1 Axes>"
      ]
     },
     "metadata": {
      "needs_background": "light"
     },
     "output_type": "display_data"
    }
   ],
   "source": [
    "belize_df['price'].hist(bins=30)\n",
    "num_less_than_50 = belize_df['price'][belize_df['price'] < 50].count()\n",
    "total_count = belize_df['price'].count()\n",
    "print(num_less_than_50)\n",
    "print(total_count)\n",
    "prob_price_less_than_50 = (num_less_than_50)/total_count\n",
    "print((prob_price_less_than_50)*100)\n",
    "new_df = belize_df[belize_df['price']<50]\n",
    "new_df.head()"
   ]
  },
  {
   "cell_type": "markdown",
   "metadata": {},
   "source": [
    "4.\tCalculate the sample variance and standard deviation for all the numerical columns in the same output. \n",
    "a.\tWhy sample variance and not population variance?\n",
    "We should use sample variance because we want a statistic for the sample of data that was collected and is available in the Belize Data.  If we were to collect new data, our sample variance may change slightly, but if the data is collected randomly and with proper techniques it should be close to the population variance. \n",
    "b.\tWhat is your takeaway for each metric?\n",
    "The price for Airbnbs in Belize have a very large range (variability) meaning the prices are spread out a lot from the mean price. On average, the rental properties vary by over 563 dollars away from the mean price.   Minimum nights has a much lower variability and standard deviation.  On average, each Airbnb minimum number of rental nights only differs by about 5.6 nights from the mean. Number of reviews also has a high variability, while reviews per month has a much lower variability and standard deviation. Most rentals properties have a similar number of reviews per month with the average reviews per month only 0.66 reviews per month away from the mean.  The number of listings per host has a large variability about the mean with the average number of host listings about 50 listings away from the mean. And average availability of rental properties is over 120 days away from the mean availability.    \n",
    "c.\tWhat are the scales of measurement for each of these values? \n",
    "Variability is in dollars squared for price, number of nights squared, reviews per month squared, number of listings squared and number of days squared, while standard deviation is measured in the standard unit for each variable (dollars for price, number of days for minimum_nights and availability, and number of reviews or listings. \n"
   ]
  },
  {
   "cell_type": "code",
   "execution_count": 117,
   "metadata": {},
   "outputs": [
    {
     "data": {
      "text/html": [
       "<div>\n",
       "<style scoped>\n",
       "    .dataframe tbody tr th:only-of-type {\n",
       "        vertical-align: middle;\n",
       "    }\n",
       "\n",
       "    .dataframe tbody tr th {\n",
       "        vertical-align: top;\n",
       "    }\n",
       "\n",
       "    .dataframe thead th {\n",
       "        text-align: right;\n",
       "    }\n",
       "</style>\n",
       "<table border=\"1\" class=\"dataframe\">\n",
       "  <thead>\n",
       "    <tr style=\"text-align: right;\">\n",
       "      <th></th>\n",
       "      <th>price</th>\n",
       "      <th>minimum_nights</th>\n",
       "      <th>number_of_reviews</th>\n",
       "      <th>reviews_per_month</th>\n",
       "      <th>calculated_host_listings_count</th>\n",
       "      <th>availability_365</th>\n",
       "    </tr>\n",
       "  </thead>\n",
       "  <tbody>\n",
       "    <tr>\n",
       "      <th>var</th>\n",
       "      <td>317109.568066</td>\n",
       "      <td>32.147122</td>\n",
       "      <td>919.773508</td>\n",
       "      <td>0.438448</td>\n",
       "      <td>2674.046405</td>\n",
       "      <td>14548.613157</td>\n",
       "    </tr>\n",
       "    <tr>\n",
       "      <th>std</th>\n",
       "      <td>563.124825</td>\n",
       "      <td>5.669843</td>\n",
       "      <td>30.327768</td>\n",
       "      <td>0.662154</td>\n",
       "      <td>51.711183</td>\n",
       "      <td>120.617632</td>\n",
       "    </tr>\n",
       "  </tbody>\n",
       "</table>\n",
       "</div>"
      ],
      "text/plain": [
       "             price  minimum_nights  number_of_reviews  reviews_per_month  \\\n",
       "var  317109.568066       32.147122         919.773508           0.438448   \n",
       "std     563.124825        5.669843          30.327768           0.662154   \n",
       "\n",
       "     calculated_host_listings_count  availability_365  \n",
       "var                     2674.046405      14548.613157  \n",
       "std                       51.711183        120.617632  "
      ]
     },
     "execution_count": 117,
     "metadata": {},
     "output_type": "execute_result"
    }
   ],
   "source": [
    "#Use agg to get both standard deviation and sample variance in the same column.\n",
    "belize_df[['price','minimum_nights','number_of_reviews','reviews_per_month','calculated_host_listings_count','availability_365']].agg([np.var, np.std])"
   ]
  },
  {
   "cell_type": "markdown",
   "metadata": {},
   "source": [
    "5.\tWhat percent of Airbnb listings in Belize are available 360 days a year or more?\n",
    "About 39 percent of Airbnb listings are available 360 days a year or more.\n",
    "a.\t360 days or less?\n",
    "About 61 percent of Airbnb listings are available 360 days a year or less. \n",
    "b.\tWhat distribution does this data most closely fit?\n",
    "The distribution looks most like a logarithmic (log normal) distribution because there are so many rentals with lots of availability. It is left-skewed.\n"
   ]
  },
  {
   "cell_type": "code",
   "execution_count": 127,
   "metadata": {},
   "outputs": [
    {
     "data": {
      "text/plain": [
       "<AxesSubplot:>"
      ]
     },
     "execution_count": 127,
     "metadata": {},
     "output_type": "execute_result"
    },
    {
     "data": {
      "image/png": "[encoded data removed]",
      "text/plain": [
       "<Figure size 432x288 with 1 Axes>"
      ]
     },
     "metadata": {
      "needs_background": "light"
     },
     "output_type": "display_data"
    }
   ],
   "source": [
    "belize_df['availability_365'].hist(bins=60)"
   ]
  },
  {
   "cell_type": "code",
   "execution_count": 121,
   "metadata": {},
   "outputs": [
    {
     "name": "stdout",
     "output_type": "stream",
     "text": [
      "1105\n",
      "2796\n",
      "39.52074391988555\n"
     ]
    },
    {
     "data": {
      "text/html": [
       "<div>\n",
       "<style scoped>\n",
       "    .dataframe tbody tr th:only-of-type {\n",
       "        vertical-align: middle;\n",
       "    }\n",
       "\n",
       "    .dataframe tbody tr th {\n",
       "        vertical-align: top;\n",
       "    }\n",
       "\n",
       "    .dataframe thead th {\n",
       "        text-align: right;\n",
       "    }\n",
       "</style>\n",
       "<table border=\"1\" class=\"dataframe\">\n",
       "  <thead>\n",
       "    <tr style=\"text-align: right;\">\n",
       "      <th></th>\n",
       "      <th>id</th>\n",
       "      <th>name</th>\n",
       "      <th>host_id</th>\n",
       "      <th>host_name</th>\n",
       "      <th>neighbourhood_group</th>\n",
       "      <th>neighbourhood</th>\n",
       "      <th>latitude</th>\n",
       "      <th>longitude</th>\n",
       "      <th>room_type</th>\n",
       "      <th>price</th>\n",
       "      <th>minimum_nights</th>\n",
       "      <th>number_of_reviews</th>\n",
       "      <th>last_review</th>\n",
       "      <th>reviews_per_month</th>\n",
       "      <th>calculated_host_listings_count</th>\n",
       "      <th>availability_365</th>\n",
       "    </tr>\n",
       "  </thead>\n",
       "  <tbody>\n",
       "    <tr>\n",
       "      <th>2</th>\n",
       "      <td>108932</td>\n",
       "      <td>Purple House eco solar  w/ ocean &amp; wildlife views</td>\n",
       "      <td>563377</td>\n",
       "      <td>Michael</td>\n",
       "      <td>Belize</td>\n",
       "      <td>Belize Islands</td>\n",
       "      <td>17.73221</td>\n",
       "      <td>-88.03824</td>\n",
       "      <td>Entire home/apt</td>\n",
       "      <td>191</td>\n",
       "      <td>2</td>\n",
       "      <td>30</td>\n",
       "      <td>3/14/2020</td>\n",
       "      <td>0.78</td>\n",
       "      <td>1</td>\n",
       "      <td>364</td>\n",
       "    </tr>\n",
       "    <tr>\n",
       "      <th>8</th>\n",
       "      <td>152922</td>\n",
       "      <td>rent a private room in a house</td>\n",
       "      <td>735525</td>\n",
       "      <td>Jennifer</td>\n",
       "      <td>Cayo</td>\n",
       "      <td>Cayo</td>\n",
       "      <td>17.25395</td>\n",
       "      <td>-88.76870</td>\n",
       "      <td>Private room</td>\n",
       "      <td>52</td>\n",
       "      <td>1</td>\n",
       "      <td>11</td>\n",
       "      <td>12/14/2019</td>\n",
       "      <td>0.18</td>\n",
       "      <td>1</td>\n",
       "      <td>364</td>\n",
       "    </tr>\n",
       "    <tr>\n",
       "      <th>9</th>\n",
       "      <td>171294</td>\n",
       "      <td>King Deluxe</td>\n",
       "      <td>817242</td>\n",
       "      <td>Michael</td>\n",
       "      <td>Cayo</td>\n",
       "      <td>Cayo</td>\n",
       "      <td>17.16261</td>\n",
       "      <td>-89.06995</td>\n",
       "      <td>Private room</td>\n",
       "      <td>286</td>\n",
       "      <td>1</td>\n",
       "      <td>40</td>\n",
       "      <td>2/3/2020</td>\n",
       "      <td>0.47</td>\n",
       "      <td>8</td>\n",
       "      <td>362</td>\n",
       "    </tr>\n",
       "    <tr>\n",
       "      <th>22</th>\n",
       "      <td>308361</td>\n",
       "      <td>Villa San Juan</td>\n",
       "      <td>1586187</td>\n",
       "      <td>Jorge Omar</td>\n",
       "      <td>Cayo</td>\n",
       "      <td>Cayo</td>\n",
       "      <td>17.25812</td>\n",
       "      <td>-88.77895</td>\n",
       "      <td>Private room</td>\n",
       "      <td>210</td>\n",
       "      <td>1</td>\n",
       "      <td>4</td>\n",
       "      <td>8/24/2018</td>\n",
       "      <td>0.05</td>\n",
       "      <td>1</td>\n",
       "      <td>365</td>\n",
       "    </tr>\n",
       "    <tr>\n",
       "      <th>26</th>\n",
       "      <td>521581</td>\n",
       "      <td>Heart of Belize City: Live-Work-Play</td>\n",
       "      <td>345885</td>\n",
       "      <td>Melissa</td>\n",
       "      <td>Belize</td>\n",
       "      <td>Belize Mainland</td>\n",
       "      <td>17.50751</td>\n",
       "      <td>-88.18791</td>\n",
       "      <td>Entire home/apt</td>\n",
       "      <td>482</td>\n",
       "      <td>4</td>\n",
       "      <td>3</td>\n",
       "      <td>2/1/2020</td>\n",
       "      <td>0.03</td>\n",
       "      <td>4</td>\n",
       "      <td>365</td>\n",
       "    </tr>\n",
       "  </tbody>\n",
       "</table>\n",
       "</div>"
      ],
      "text/plain": [
       "        id                                               name  host_id  \\\n",
       "2   108932  Purple House eco solar  w/ ocean & wildlife views   563377   \n",
       "8   152922                     rent a private room in a house   735525   \n",
       "9   171294                                        King Deluxe   817242   \n",
       "22  308361                                     Villa San Juan  1586187   \n",
       "26  521581               Heart of Belize City: Live-Work-Play   345885   \n",
       "\n",
       "     host_name neighbourhood_group    neighbourhood  latitude  longitude  \\\n",
       "2      Michael              Belize   Belize Islands  17.73221  -88.03824   \n",
       "8     Jennifer                Cayo             Cayo  17.25395  -88.76870   \n",
       "9      Michael                Cayo             Cayo  17.16261  -89.06995   \n",
       "22  Jorge Omar                Cayo             Cayo  17.25812  -88.77895   \n",
       "26     Melissa              Belize  Belize Mainland  17.50751  -88.18791   \n",
       "\n",
       "          room_type  price  minimum_nights  number_of_reviews last_review  \\\n",
       "2   Entire home/apt    191               2                 30   3/14/2020   \n",
       "8      Private room     52               1                 11  12/14/2019   \n",
       "9      Private room    286               1                 40    2/3/2020   \n",
       "22     Private room    210               1                  4   8/24/2018   \n",
       "26  Entire home/apt    482               4                  3    2/1/2020   \n",
       "\n",
       "    reviews_per_month  calculated_host_listings_count  availability_365  \n",
       "2                0.78                               1               364  \n",
       "8                0.18                               1               364  \n",
       "9                0.47                               8               362  \n",
       "22               0.05                               1               365  \n",
       "26               0.03                               4               365  "
      ]
     },
     "execution_count": 121,
     "metadata": {},
     "output_type": "execute_result"
    }
   ],
   "source": [
    "num_greater_than_360 = belize_df['availability_365'][belize_df['availability_365'] >= 360].count()\n",
    "total_count = belize_df['availability_365'].count()\n",
    "print(num_greater_than_360)\n",
    "print(total_count)\n",
    "percent_availability_greater_than_360 = (num_greater_than_360)/total_count\n",
    "print((percent_availability_greater_than_360)*100)\n",
    "new_availability_df = belize_df[belize_df['availability_365']>=360]\n",
    "new_availability_df.head()"
   ]
  },
  {
   "cell_type": "code",
   "execution_count": 123,
   "metadata": {},
   "outputs": [
    {
     "name": "stdout",
     "output_type": "stream",
     "text": [
      "1721\n",
      "2796\n",
      "61.55221745350501\n"
     ]
    },
    {
     "data": {
      "text/html": [
       "<div>\n",
       "<style scoped>\n",
       "    .dataframe tbody tr th:only-of-type {\n",
       "        vertical-align: middle;\n",
       "    }\n",
       "\n",
       "    .dataframe tbody tr th {\n",
       "        vertical-align: top;\n",
       "    }\n",
       "\n",
       "    .dataframe thead th {\n",
       "        text-align: right;\n",
       "    }\n",
       "</style>\n",
       "<table border=\"1\" class=\"dataframe\">\n",
       "  <thead>\n",
       "    <tr style=\"text-align: right;\">\n",
       "      <th></th>\n",
       "      <th>id</th>\n",
       "      <th>name</th>\n",
       "      <th>host_id</th>\n",
       "      <th>host_name</th>\n",
       "      <th>neighbourhood_group</th>\n",
       "      <th>neighbourhood</th>\n",
       "      <th>latitude</th>\n",
       "      <th>longitude</th>\n",
       "      <th>room_type</th>\n",
       "      <th>price</th>\n",
       "      <th>minimum_nights</th>\n",
       "      <th>number_of_reviews</th>\n",
       "      <th>last_review</th>\n",
       "      <th>reviews_per_month</th>\n",
       "      <th>calculated_host_listings_count</th>\n",
       "      <th>availability_365</th>\n",
       "    </tr>\n",
       "  </thead>\n",
       "  <tbody>\n",
       "    <tr>\n",
       "      <th>0</th>\n",
       "      <td>36666</td>\n",
       "      <td>Mo's Cozy Casa w/ veranda &amp; access to dock</td>\n",
       "      <td>157752</td>\n",
       "      <td>Monique</td>\n",
       "      <td>Belize</td>\n",
       "      <td>Belize Islands</td>\n",
       "      <td>17.74786</td>\n",
       "      <td>-88.02398</td>\n",
       "      <td>Entire home/apt</td>\n",
       "      <td>141</td>\n",
       "      <td>3</td>\n",
       "      <td>250</td>\n",
       "      <td>2/23/2021</td>\n",
       "      <td>2.00</td>\n",
       "      <td>5</td>\n",
       "      <td>225</td>\n",
       "    </tr>\n",
       "    <tr>\n",
       "      <th>1</th>\n",
       "      <td>36690</td>\n",
       "      <td>Mo's Cozy Cabana w/ comfy veranda &amp; access to ...</td>\n",
       "      <td>157752</td>\n",
       "      <td>Monique</td>\n",
       "      <td>Belize</td>\n",
       "      <td>Belize Islands</td>\n",
       "      <td>17.74832</td>\n",
       "      <td>-88.02474</td>\n",
       "      <td>Entire home/apt</td>\n",
       "      <td>71</td>\n",
       "      <td>3</td>\n",
       "      <td>316</td>\n",
       "      <td>2/19/2021</td>\n",
       "      <td>2.46</td>\n",
       "      <td>5</td>\n",
       "      <td>164</td>\n",
       "    </tr>\n",
       "    <tr>\n",
       "      <th>3</th>\n",
       "      <td>110483</td>\n",
       "      <td>Michelo's fuchsia suite</td>\n",
       "      <td>567809</td>\n",
       "      <td>Michel</td>\n",
       "      <td>Stann Creek</td>\n",
       "      <td>Stann Creek Mainland</td>\n",
       "      <td>16.52114</td>\n",
       "      <td>-88.36926</td>\n",
       "      <td>Hotel room</td>\n",
       "      <td>121</td>\n",
       "      <td>1</td>\n",
       "      <td>27</td>\n",
       "      <td>2/24/2020</td>\n",
       "      <td>0.29</td>\n",
       "      <td>3</td>\n",
       "      <td>331</td>\n",
       "    </tr>\n",
       "    <tr>\n",
       "      <th>4</th>\n",
       "      <td>120115</td>\n",
       "      <td>Seaside Villas Second Floor Unit  #4</td>\n",
       "      <td>604999</td>\n",
       "      <td>Bobbi</td>\n",
       "      <td>Belize</td>\n",
       "      <td>Belize Islands</td>\n",
       "      <td>17.74166</td>\n",
       "      <td>-88.02395</td>\n",
       "      <td>Entire home/apt</td>\n",
       "      <td>343</td>\n",
       "      <td>1</td>\n",
       "      <td>30</td>\n",
       "      <td>3/18/2020</td>\n",
       "      <td>0.64</td>\n",
       "      <td>22</td>\n",
       "      <td>203</td>\n",
       "    </tr>\n",
       "    <tr>\n",
       "      <th>5</th>\n",
       "      <td>120116</td>\n",
       "      <td>Valarosa</td>\n",
       "      <td>604999</td>\n",
       "      <td>Bobbi</td>\n",
       "      <td>Belize</td>\n",
       "      <td>Belize Islands</td>\n",
       "      <td>17.73644</td>\n",
       "      <td>-88.02858</td>\n",
       "      <td>Entire home/apt</td>\n",
       "      <td>171</td>\n",
       "      <td>2</td>\n",
       "      <td>49</td>\n",
       "      <td>3/23/2020</td>\n",
       "      <td>0.80</td>\n",
       "      <td>22</td>\n",
       "      <td>0</td>\n",
       "    </tr>\n",
       "  </tbody>\n",
       "</table>\n",
       "</div>"
      ],
      "text/plain": [
       "       id                                               name  host_id  \\\n",
       "0   36666         Mo's Cozy Casa w/ veranda & access to dock   157752   \n",
       "1   36690  Mo's Cozy Cabana w/ comfy veranda & access to ...   157752   \n",
       "3  110483                            Michelo's fuchsia suite   567809   \n",
       "4  120115               Seaside Villas Second Floor Unit  #4   604999   \n",
       "5  120116                                           Valarosa   604999   \n",
       "\n",
       "  host_name neighbourhood_group         neighbourhood  latitude  longitude  \\\n",
       "0   Monique              Belize        Belize Islands  17.74786  -88.02398   \n",
       "1   Monique              Belize        Belize Islands  17.74832  -88.02474   \n",
       "3    Michel         Stann Creek  Stann Creek Mainland  16.52114  -88.36926   \n",
       "4     Bobbi              Belize        Belize Islands  17.74166  -88.02395   \n",
       "5     Bobbi              Belize        Belize Islands  17.73644  -88.02858   \n",
       "\n",
       "         room_type  price  minimum_nights  number_of_reviews last_review  \\\n",
       "0  Entire home/apt    141               3                250   2/23/2021   \n",
       "1  Entire home/apt     71               3                316   2/19/2021   \n",
       "3       Hotel room    121               1                 27   2/24/2020   \n",
       "4  Entire home/apt    343               1                 30   3/18/2020   \n",
       "5  Entire home/apt    171               2                 49   3/23/2020   \n",
       "\n",
       "   reviews_per_month  calculated_host_listings_count  availability_365  \n",
       "0               2.00                               5               225  \n",
       "1               2.46                               5               164  \n",
       "3               0.29                               3               331  \n",
       "4               0.64                              22               203  \n",
       "5               0.80                              22                 0  "
      ]
     },
     "execution_count": 123,
     "metadata": {},
     "output_type": "execute_result"
    }
   ],
   "source": [
    "num_less_than_360 = belize_df['availability_365'][belize_df['availability_365'] <= 360].count()\n",
    "total_count = belize_df['availability_365'].count()\n",
    "print(num_less_than_360)\n",
    "print(total_count)\n",
    "percent_availability_less_than_360 = (num_less_than_360)/total_count\n",
    "print((percent_availability_less_than_360)*100)\n",
    "new_availability_df = belize_df[belize_df['availability_365']<=360]\n",
    "new_availability_df.head()"
   ]
  },
  {
   "cell_type": "markdown",
   "metadata": {},
   "source": [
    "6.\tWhat minimum night count are 75% of Airnbnb listing in Belize greater than?\n",
    "75% of Airbnb listings have a minimum night count of less than 3 nights. \n"
   ]
  },
  {
   "cell_type": "code",
   "execution_count": 129,
   "metadata": {},
   "outputs": [
    {
     "data": {
      "text/plain": [
       "<AxesSubplot:>"
      ]
     },
     "execution_count": 129,
     "metadata": {},
     "output_type": "execute_result"
    },
    {
     "data": {
      "image/png": "[encoded data removed]",
      "text/plain": [
       "<Figure size 432x288 with 1 Axes>"
      ]
     },
     "metadata": {
      "needs_background": "light"
     },
     "output_type": "display_data"
    }
   ],
   "source": [
    "belize_df['minimum_nights'].hist(bins=40)"
   ]
  },
  {
   "cell_type": "code",
   "execution_count": 136,
   "metadata": {},
   "outputs": [
    {
     "name": "stdout",
     "output_type": "stream",
     "text": [
      "3.0\n"
     ]
    }
   ],
   "source": [
    "q3 = np.percentile(belize_df['minimum_nights'], 75)\n",
    "print(q3)"
   ]
  },
  {
   "cell_type": "code",
   "execution_count": null,
   "metadata": {},
   "outputs": [],
   "source": []
  }
 ],
 "metadata": {
  "kernelspec": {
   "display_name": "Python 3",
   "language": "python",
   "name": "python3"
  },
  "language_info": {
   "codemirror_mode": {
    "name": "ipython",
    "version": 3
   },
   "file_extension": ".py",
   "mimetype": "text/x-python",
   "name": "python",
   "nbconvert_exporter": "python",
   "pygments_lexer": "ipython3",
   "version": "3.8.5"
  }
 },
 "nbformat": 4,
 "nbformat_minor": 4
}
