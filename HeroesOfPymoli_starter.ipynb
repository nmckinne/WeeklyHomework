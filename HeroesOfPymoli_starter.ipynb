{
 "cells": [
  {
   "cell_type": "markdown",
   "metadata": {},
   "source": [
    "### Heroes Of Pymoli Data Analysis\n",
    "\n",
    "-----"
   ]
  },
  {
   "cell_type": "markdown",
   "metadata": {},
   "source": [
    "### Note\n",
    "* Instructions have been included for each segment. You do not have to follow them exactly, but they are included to help you think through the steps."
   ]
  },
  {
   "cell_type": "code",
   "execution_count": 188,
   "metadata": {},
   "outputs": [
    {
     "data": {
      "text/html": [
       "<div>\n",
       "<style scoped>\n",
       "    .dataframe tbody tr th:only-of-type {\n",
       "        vertical-align: middle;\n",
       "    }\n",
       "\n",
       "    .dataframe tbody tr th {\n",
       "        vertical-align: top;\n",
       "    }\n",
       "\n",
       "    .dataframe thead th {\n",
       "        text-align: right;\n",
       "    }\n",
       "</style>\n",
       "<table border=\"1\" class=\"dataframe\">\n",
       "  <thead>\n",
       "    <tr style=\"text-align: right;\">\n",
       "      <th></th>\n",
       "      <th>Purchase ID</th>\n",
       "      <th>SN</th>\n",
       "      <th>Age</th>\n",
       "      <th>Gender</th>\n",
       "      <th>Item ID</th>\n",
       "      <th>Item Name</th>\n",
       "      <th>Price</th>\n",
       "    </tr>\n",
       "  </thead>\n",
       "  <tbody>\n",
       "    <tr>\n",
       "      <th>0</th>\n",
       "      <td>0</td>\n",
       "      <td>Lisim78</td>\n",
       "      <td>20</td>\n",
       "      <td>Male</td>\n",
       "      <td>108</td>\n",
       "      <td>Extraction, Quickblade Of Trembling Hands</td>\n",
       "      <td>3.53</td>\n",
       "    </tr>\n",
       "    <tr>\n",
       "      <th>1</th>\n",
       "      <td>1</td>\n",
       "      <td>Lisovynya38</td>\n",
       "      <td>40</td>\n",
       "      <td>Male</td>\n",
       "      <td>143</td>\n",
       "      <td>Frenzied Scimitar</td>\n",
       "      <td>1.56</td>\n",
       "    </tr>\n",
       "    <tr>\n",
       "      <th>2</th>\n",
       "      <td>2</td>\n",
       "      <td>Ithergue48</td>\n",
       "      <td>24</td>\n",
       "      <td>Male</td>\n",
       "      <td>92</td>\n",
       "      <td>Final Critic</td>\n",
       "      <td>4.88</td>\n",
       "    </tr>\n",
       "    <tr>\n",
       "      <th>3</th>\n",
       "      <td>3</td>\n",
       "      <td>Chamassasya86</td>\n",
       "      <td>24</td>\n",
       "      <td>Male</td>\n",
       "      <td>100</td>\n",
       "      <td>Blindscythe</td>\n",
       "      <td>3.27</td>\n",
       "    </tr>\n",
       "    <tr>\n",
       "      <th>4</th>\n",
       "      <td>4</td>\n",
       "      <td>Iskosia90</td>\n",
       "      <td>23</td>\n",
       "      <td>Male</td>\n",
       "      <td>131</td>\n",
       "      <td>Fury</td>\n",
       "      <td>1.44</td>\n",
       "    </tr>\n",
       "  </tbody>\n",
       "</table>\n",
       "</div>"
      ],
      "text/plain": [
       "   Purchase ID             SN  Age Gender  Item ID  \\\n",
       "0            0        Lisim78   20   Male      108   \n",
       "1            1    Lisovynya38   40   Male      143   \n",
       "2            2     Ithergue48   24   Male       92   \n",
       "3            3  Chamassasya86   24   Male      100   \n",
       "4            4      Iskosia90   23   Male      131   \n",
       "\n",
       "                                   Item Name  Price  \n",
       "0  Extraction, Quickblade Of Trembling Hands   3.53  \n",
       "1                          Frenzied Scimitar   1.56  \n",
       "2                               Final Critic   4.88  \n",
       "3                                Blindscythe   3.27  \n",
       "4                                       Fury   1.44  "
      ]
     },
     "execution_count": 188,
     "metadata": {},
     "output_type": "execute_result"
    }
   ],
   "source": [
    "# Dependencies and Setup\n",
    "import pandas as pd\n",
    "import numpy as np\n",
    "\n",
    "# File to Load (Remember to Change These)\n",
    "file_to_load = \"Resources/purchase_data.csv\"\n",
    "\n",
    "# Read Purchasing File and store into Pandas data frame\n",
    "purchase_data = pd.read_csv(file_to_load)\n",
    "purchase_data.head()"
   ]
  },
  {
   "cell_type": "markdown",
   "metadata": {},
   "source": [
    "## Player Count"
   ]
  },
  {
   "cell_type": "markdown",
   "metadata": {},
   "source": [
    "* Display the total number of players\n"
   ]
  },
  {
   "cell_type": "code",
   "execution_count": 91,
   "metadata": {},
   "outputs": [
    {
     "data": {
      "text/html": [
       "<style  type=\"text/css\" >\n",
       "</style><table id=\"T_ad9e5ca7_91be_11eb_b3ff_1cbfc0d40824\" ><thead>    <tr>        <th class=\"blank level0\" ></th>        <th class=\"col_heading level0 col0\" >Total Players</th>    </tr></thead><tbody>\n",
       "                <tr>\n",
       "                        <th id=\"T_ad9e5ca7_91be_11eb_b3ff_1cbfc0d40824level0_row0\" class=\"row_heading level0 row0\" >0</th>\n",
       "                        <td id=\"T_ad9e5ca7_91be_11eb_b3ff_1cbfc0d40824row0_col0\" class=\"data row0 col0\" >576</td>\n",
       "            </tr>\n",
       "    </tbody></table>"
      ],
      "text/plain": [
       "<pandas.io.formats.style.Styler at 0x1d685a22b20>"
      ]
     },
     "execution_count": 91,
     "metadata": {},
     "output_type": "execute_result"
    }
   ],
   "source": [
    "Number_Players = purchase_data['SN'].nunique()\n",
    "#print(Number_Players)\n",
    "Number_of_Players = {\"Total Players\": [Number_Players]}\n",
    "Number_of_Players_df = pd.DataFrame(Number_of_Players)\n",
    "Number_of_Players_df.style.format({\"Total Players\": '{:.0f}'})"
   ]
  },
  {
   "cell_type": "markdown",
   "metadata": {},
   "source": [
    "## Purchasing Analysis (Total)"
   ]
  },
  {
   "cell_type": "markdown",
   "metadata": {},
   "source": [
    "* Run basic calculations to obtain number of unique items, average price, etc.\n",
    "\n",
    "\n",
    "* Create a summary data frame to hold the results\n",
    "\n",
    "\n",
    "* Optional: give the displayed data cleaner formatting\n",
    "\n",
    "\n",
    "* Display the summary data frame\n"
   ]
  },
  {
   "cell_type": "code",
   "execution_count": 4,
   "metadata": {
    "scrolled": true
   },
   "outputs": [
    {
     "data": {
      "text/html": [
       "<style  type=\"text/css\" >\n",
       "</style><table id=\"T_39813f3e_91b3_11eb_9619_1cbfc0d40824\" ><thead>    <tr>        <th class=\"blank level0\" ></th>        <th class=\"col_heading level0 col0\" >Number of Unique Items</th>        <th class=\"col_heading level0 col1\" >Average Price</th>        <th class=\"col_heading level0 col2\" >Number of Purchases</th>        <th class=\"col_heading level0 col3\" >Total Revenue</th>    </tr></thead><tbody>\n",
       "                <tr>\n",
       "                        <th id=\"T_39813f3e_91b3_11eb_9619_1cbfc0d40824level0_row0\" class=\"row_heading level0 row0\" >0</th>\n",
       "                        <td id=\"T_39813f3e_91b3_11eb_9619_1cbfc0d40824row0_col0\" class=\"data row0 col0\" >183</td>\n",
       "                        <td id=\"T_39813f3e_91b3_11eb_9619_1cbfc0d40824row0_col1\" class=\"data row0 col1\" >$3.05</td>\n",
       "                        <td id=\"T_39813f3e_91b3_11eb_9619_1cbfc0d40824row0_col2\" class=\"data row0 col2\" >780</td>\n",
       "                        <td id=\"T_39813f3e_91b3_11eb_9619_1cbfc0d40824row0_col3\" class=\"data row0 col3\" >$2379.77</td>\n",
       "            </tr>\n",
       "    </tbody></table>"
      ],
      "text/plain": [
       "<pandas.io.formats.style.Styler at 0x1d683785850>"
      ]
     },
     "execution_count": 4,
     "metadata": {},
     "output_type": "execute_result"
    }
   ],
   "source": [
    "#print(purchase_data.head())\n",
    "#print(purchase_data.describe())\n",
    "Unique_id = purchase_data['Item ID'].unique()\n",
    "number_unique_items = len(Unique_id)\n",
    "Mean_price = purchase_data['Price'].mean()\n",
    "num_purchases = purchase_data['Purchase ID'].unique()\n",
    "number_purchases = len(num_purchases)\n",
    "total_revenue = purchase_data['Price'].sum()\n",
    "\n",
    "\n",
    "summary_purchase_data = {\"Number of Unique Items\": [number_unique_items], \n",
    "                        \"Average Price\": [Mean_price],\n",
    "                        \"Number of Purchases\": [number_purchases],\n",
    "                        \"Total Revenue\": [total_revenue]}\n",
    "summary_df = pd.DataFrame(summary_purchase_data)\n",
    "summary_df.style.format({\"Average Price\": '${:.2f}', \"Total Revenue\": '${:.2f}'})\n"
   ]
  },
  {
   "cell_type": "markdown",
   "metadata": {},
   "source": [
    "## Gender Demographics"
   ]
  },
  {
   "cell_type": "markdown",
   "metadata": {},
   "source": [
    "* Percentage and Count of Male Players\n",
    "\n",
    "\n",
    "* Percentage and Count of Female Players\n",
    "\n",
    "\n",
    "* Percentage and Count of Other / Non-Disclosed\n",
    "\n",
    "\n"
   ]
  },
  {
   "cell_type": "code",
   "execution_count": 186,
   "metadata": {},
   "outputs": [
    {
     "data": {
      "text/html": [
       "<style  type=\"text/css\" >\n",
       "</style><table id=\"T_94a74eb4_91cd_11eb_9ba0_1cbfc0d40824\" ><thead>    <tr>        <th class=\"blank level0\" ></th>        <th class=\"col_heading level0 col0\" >Total Count</th>        <th class=\"col_heading level0 col1\" >Percentage of Players</th>    </tr>    <tr>        <th class=\"index_name level0\" ></th>        <th class=\"blank\" ></th>        <th class=\"blank\" ></th>    </tr></thead><tbody>\n",
       "                <tr>\n",
       "                        <th id=\"T_94a74eb4_91cd_11eb_9ba0_1cbfc0d40824level0_row0\" class=\"row_heading level0 row0\" >Male</th>\n",
       "                        <td id=\"T_94a74eb4_91cd_11eb_9ba0_1cbfc0d40824row0_col0\" class=\"data row0 col0\" >484</td>\n",
       "                        <td id=\"T_94a74eb4_91cd_11eb_9ba0_1cbfc0d40824row0_col1\" class=\"data row0 col1\" >84.03</td>\n",
       "            </tr>\n",
       "            <tr>\n",
       "                        <th id=\"T_94a74eb4_91cd_11eb_9ba0_1cbfc0d40824level0_row1\" class=\"row_heading level0 row1\" >Female</th>\n",
       "                        <td id=\"T_94a74eb4_91cd_11eb_9ba0_1cbfc0d40824row1_col0\" class=\"data row1 col0\" >81</td>\n",
       "                        <td id=\"T_94a74eb4_91cd_11eb_9ba0_1cbfc0d40824row1_col1\" class=\"data row1 col1\" >14.06</td>\n",
       "            </tr>\n",
       "            <tr>\n",
       "                        <th id=\"T_94a74eb4_91cd_11eb_9ba0_1cbfc0d40824level0_row2\" class=\"row_heading level0 row2\" >Other / Non-disclosed</th>\n",
       "                        <td id=\"T_94a74eb4_91cd_11eb_9ba0_1cbfc0d40824row2_col0\" class=\"data row2 col0\" >11</td>\n",
       "                        <td id=\"T_94a74eb4_91cd_11eb_9ba0_1cbfc0d40824row2_col1\" class=\"data row2 col1\" >1.91</td>\n",
       "            </tr>\n",
       "    </tbody></table>"
      ],
      "text/plain": [
       "<pandas.io.formats.style.Styler at 0x1d6863df820>"
      ]
     },
     "execution_count": 186,
     "metadata": {},
     "output_type": "execute_result"
    }
   ],
   "source": [
    "Total_Count_Players = purchase_data['SN'].nunique()\n",
    "Players_by_Gender = purchase_data.groupby('Gender')['SN'].nunique()\n",
    "#print(Total_Count_Players)\n",
    "Total_Count_Male = Players_by_Gender.loc['Male']\n",
    "Total_Count_Female = Players_by_Gender.loc['Female']\n",
    "Total_Count_Other = Players_by_Gender.loc['Other / Non-Disclosed']\n",
    "Percent_Males = (Total_Count_Male/Total_Count_Players) * 100\n",
    "Percent_Females = (Total_Count_Female/Total_Count_Players) * 100\n",
    "Percent_Other = (Total_Count_Other/Total_Count_Players) * 100\n",
    "#print(Percent_Males,Percent_Females, Percent_Other)\n",
    "summary_gender_data = {\"\": ['Male', 'Female', 'Other / Non-disclosed'],\n",
    "                       \"Total Count\": [Total_Count_Male, Total_Count_Female, Total_Count_Other], \n",
    "                       \"Percentage of Players\": [Percent_Males, Percent_Females, Percent_Other]}\n",
    "summary_gender_df = pd.DataFrame(summary_gender_data)\n",
    "new_gender_df = summary_gender_df.set_index('')\n",
    "new_gender_df.style.format({\"Percentage of Players\":'{:.2f}'})"
   ]
  },
  {
   "cell_type": "markdown",
   "metadata": {},
   "source": [
    "\n",
    "## Purchasing Analysis (Gender)"
   ]
  },
  {
   "cell_type": "markdown",
   "metadata": {},
   "source": [
    "* Run basic calculations to obtain purchase count, avg. purchase price, avg. purchase total per person etc. by gender\n",
    "\n",
    "\n",
    "\n",
    "\n",
    "* Create a summary data frame to hold the results\n",
    "\n",
    "\n",
    "* Optional: give the displayed data cleaner formatting\n",
    "\n",
    "\n",
    "* Display the summary data frame"
   ]
  },
  {
   "cell_type": "code",
   "execution_count": 137,
   "metadata": {},
   "outputs": [
    {
     "data": {
      "text/html": [
       "<style  type=\"text/css\" >\n",
       "</style><table id=\"T_2ab015df_91c6_11eb_a3a4_1cbfc0d40824\" ><thead>    <tr>        <th class=\"blank level0\" ></th>        <th class=\"col_heading level0 col0\" >Purchase Count</th>        <th class=\"col_heading level0 col1\" >Average Purchase Price</th>        <th class=\"col_heading level0 col2\" >Total Purchase Value</th>        <th class=\"col_heading level0 col3\" >Avg Total Purchase Per Person</th>    </tr>    <tr>        <th class=\"index_name level0\" >Gender</th>        <th class=\"blank\" ></th>        <th class=\"blank\" ></th>        <th class=\"blank\" ></th>        <th class=\"blank\" ></th>    </tr></thead><tbody>\n",
       "                <tr>\n",
       "                        <th id=\"T_2ab015df_91c6_11eb_a3a4_1cbfc0d40824level0_row0\" class=\"row_heading level0 row0\" >Female</th>\n",
       "                        <td id=\"T_2ab015df_91c6_11eb_a3a4_1cbfc0d40824row0_col0\" class=\"data row0 col0\" >113</td>\n",
       "                        <td id=\"T_2ab015df_91c6_11eb_a3a4_1cbfc0d40824row0_col1\" class=\"data row0 col1\" >$3.20</td>\n",
       "                        <td id=\"T_2ab015df_91c6_11eb_a3a4_1cbfc0d40824row0_col2\" class=\"data row0 col2\" >$361.94</td>\n",
       "                        <td id=\"T_2ab015df_91c6_11eb_a3a4_1cbfc0d40824row0_col3\" class=\"data row0 col3\" >$4.47</td>\n",
       "            </tr>\n",
       "            <tr>\n",
       "                        <th id=\"T_2ab015df_91c6_11eb_a3a4_1cbfc0d40824level0_row1\" class=\"row_heading level0 row1\" >Male</th>\n",
       "                        <td id=\"T_2ab015df_91c6_11eb_a3a4_1cbfc0d40824row1_col0\" class=\"data row1 col0\" >652</td>\n",
       "                        <td id=\"T_2ab015df_91c6_11eb_a3a4_1cbfc0d40824row1_col1\" class=\"data row1 col1\" >$3.02</td>\n",
       "                        <td id=\"T_2ab015df_91c6_11eb_a3a4_1cbfc0d40824row1_col2\" class=\"data row1 col2\" >$1967.64</td>\n",
       "                        <td id=\"T_2ab015df_91c6_11eb_a3a4_1cbfc0d40824row1_col3\" class=\"data row1 col3\" >$4.07</td>\n",
       "            </tr>\n",
       "            <tr>\n",
       "                        <th id=\"T_2ab015df_91c6_11eb_a3a4_1cbfc0d40824level0_row2\" class=\"row_heading level0 row2\" >Other / Non-Disclosed</th>\n",
       "                        <td id=\"T_2ab015df_91c6_11eb_a3a4_1cbfc0d40824row2_col0\" class=\"data row2 col0\" >15</td>\n",
       "                        <td id=\"T_2ab015df_91c6_11eb_a3a4_1cbfc0d40824row2_col1\" class=\"data row2 col1\" >$3.35</td>\n",
       "                        <td id=\"T_2ab015df_91c6_11eb_a3a4_1cbfc0d40824row2_col2\" class=\"data row2 col2\" >$50.19</td>\n",
       "                        <td id=\"T_2ab015df_91c6_11eb_a3a4_1cbfc0d40824row2_col3\" class=\"data row2 col3\" >$4.56</td>\n",
       "            </tr>\n",
       "    </tbody></table>"
      ],
      "text/plain": [
       "<pandas.io.formats.style.Styler at 0x1d6857d85b0>"
      ]
     },
     "execution_count": 137,
     "metadata": {},
     "output_type": "execute_result"
    }
   ],
   "source": [
    "Players_by_gender = purchase_data.groupby('Gender')\n",
    "Avg_Price_by_Gender = Players_by_gender['Price'].mean()\n",
    "Purchase_Count_by_Gender = Players_by_gender['Purchase ID'].count()\n",
    "Total_Purchase_Value_By_Gender = Players_by_gender['Price'].sum()\n",
    "Total_Count_by_Gender = Players_by_gender['SN'].nunique()\n",
    "Average_Total_Purchase = (Total_Purchase_Value_By_Gender/Total_Count_by_Gender)\n",
    "Analysis_DataFrames = [Purchase_Count_by_Gender, Avg_Price_by_Gender, Total_Purchase_Value_By_Gender, Average_Total_Purchase]\n",
    "Analysis_DataFrames_merged = pd.concat(Analysis_DataFrames, axis=1, keys=[\"Purchase Count\",\"Average Purchase Price\",\"Total Purchase Value\",\"Avg Total Purchase Per Person\"])\n",
    "#print(Analysis_DataFrames_merged)\n",
    "Analysis_DataFrames_merged.style.format({\"Average Purchase Price\": '${:.2f}', \"Total Purchase Value\": '${:.2f}', \"Avg Total Purchase Per Person\": '${:.2f}'})"
   ]
  },
  {
   "cell_type": "markdown",
   "metadata": {},
   "source": [
    "## Age Demographics"
   ]
  },
  {
   "cell_type": "markdown",
   "metadata": {},
   "source": [
    "* Establish bins for ages\n",
    "\n",
    "\n",
    "* Categorize the existing players using the age bins. Hint: use pd.cut()\n",
    "\n",
    "\n",
    "* Calculate the numbers and percentages by age group\n",
    "\n",
    "\n",
    "* Create a summary data frame to hold the results\n",
    "\n",
    "\n",
    "* Optional: round the percentage column to two decimal points\n",
    "\n",
    "\n",
    "* Display Age Demographics Table\n"
   ]
  },
  {
   "cell_type": "code",
   "execution_count": 175,
   "metadata": {},
   "outputs": [
    {
     "data": {
      "text/html": [
       "<style  type=\"text/css\" >\n",
       "</style><table id=\"T_e25c0631_91ca_11eb_8514_1cbfc0d40824\" ><thead>    <tr>        <th class=\"blank level0\" ></th>        <th class=\"col_heading level0 col0\" >SN_Total Count</th>        <th class=\"col_heading level0 col1\" >SN_Percentage of Players</th>    </tr>    <tr>        <th class=\"index_name level0\" >Age Group</th>        <th class=\"blank\" ></th>        <th class=\"blank\" ></th>    </tr></thead><tbody>\n",
       "                <tr>\n",
       "                        <th id=\"T_e25c0631_91ca_11eb_8514_1cbfc0d40824level0_row0\" class=\"row_heading level0 row0\" ><10</th>\n",
       "                        <td id=\"T_e25c0631_91ca_11eb_8514_1cbfc0d40824row0_col0\" class=\"data row0 col0\" >17</td>\n",
       "                        <td id=\"T_e25c0631_91ca_11eb_8514_1cbfc0d40824row0_col1\" class=\"data row0 col1\" >2.95%</td>\n",
       "            </tr>\n",
       "            <tr>\n",
       "                        <th id=\"T_e25c0631_91ca_11eb_8514_1cbfc0d40824level0_row1\" class=\"row_heading level0 row1\" >10-14</th>\n",
       "                        <td id=\"T_e25c0631_91ca_11eb_8514_1cbfc0d40824row1_col0\" class=\"data row1 col0\" >22</td>\n",
       "                        <td id=\"T_e25c0631_91ca_11eb_8514_1cbfc0d40824row1_col1\" class=\"data row1 col1\" >3.82%</td>\n",
       "            </tr>\n",
       "            <tr>\n",
       "                        <th id=\"T_e25c0631_91ca_11eb_8514_1cbfc0d40824level0_row2\" class=\"row_heading level0 row2\" >15-19</th>\n",
       "                        <td id=\"T_e25c0631_91ca_11eb_8514_1cbfc0d40824row2_col0\" class=\"data row2 col0\" >107</td>\n",
       "                        <td id=\"T_e25c0631_91ca_11eb_8514_1cbfc0d40824row2_col1\" class=\"data row2 col1\" >18.58%</td>\n",
       "            </tr>\n",
       "            <tr>\n",
       "                        <th id=\"T_e25c0631_91ca_11eb_8514_1cbfc0d40824level0_row3\" class=\"row_heading level0 row3\" >20-24</th>\n",
       "                        <td id=\"T_e25c0631_91ca_11eb_8514_1cbfc0d40824row3_col0\" class=\"data row3 col0\" >258</td>\n",
       "                        <td id=\"T_e25c0631_91ca_11eb_8514_1cbfc0d40824row3_col1\" class=\"data row3 col1\" >44.79%</td>\n",
       "            </tr>\n",
       "            <tr>\n",
       "                        <th id=\"T_e25c0631_91ca_11eb_8514_1cbfc0d40824level0_row4\" class=\"row_heading level0 row4\" >25-29</th>\n",
       "                        <td id=\"T_e25c0631_91ca_11eb_8514_1cbfc0d40824row4_col0\" class=\"data row4 col0\" >77</td>\n",
       "                        <td id=\"T_e25c0631_91ca_11eb_8514_1cbfc0d40824row4_col1\" class=\"data row4 col1\" >13.37%</td>\n",
       "            </tr>\n",
       "            <tr>\n",
       "                        <th id=\"T_e25c0631_91ca_11eb_8514_1cbfc0d40824level0_row5\" class=\"row_heading level0 row5\" >30-34</th>\n",
       "                        <td id=\"T_e25c0631_91ca_11eb_8514_1cbfc0d40824row5_col0\" class=\"data row5 col0\" >52</td>\n",
       "                        <td id=\"T_e25c0631_91ca_11eb_8514_1cbfc0d40824row5_col1\" class=\"data row5 col1\" >9.03%</td>\n",
       "            </tr>\n",
       "            <tr>\n",
       "                        <th id=\"T_e25c0631_91ca_11eb_8514_1cbfc0d40824level0_row6\" class=\"row_heading level0 row6\" >35-39</th>\n",
       "                        <td id=\"T_e25c0631_91ca_11eb_8514_1cbfc0d40824row6_col0\" class=\"data row6 col0\" >31</td>\n",
       "                        <td id=\"T_e25c0631_91ca_11eb_8514_1cbfc0d40824row6_col1\" class=\"data row6 col1\" >5.38%</td>\n",
       "            </tr>\n",
       "            <tr>\n",
       "                        <th id=\"T_e25c0631_91ca_11eb_8514_1cbfc0d40824level0_row7\" class=\"row_heading level0 row7\" >40+</th>\n",
       "                        <td id=\"T_e25c0631_91ca_11eb_8514_1cbfc0d40824row7_col0\" class=\"data row7 col0\" >12</td>\n",
       "                        <td id=\"T_e25c0631_91ca_11eb_8514_1cbfc0d40824row7_col1\" class=\"data row7 col1\" >2.08%</td>\n",
       "            </tr>\n",
       "    </tbody></table>"
      ],
      "text/plain": [
       "<pandas.io.formats.style.Styler at 0x1d6859dad60>"
      ]
     },
     "execution_count": 175,
     "metadata": {},
     "output_type": "execute_result"
    }
   ],
   "source": [
    "age_bins = [0,9,14,19,24,29,34,39,150]\n",
    "age_labels = ['<10','10-14','15-19','20-24','25-29','30-34','35-39','40+']\n",
    "Total_Count_Players = purchase_data['SN'].nunique()\n",
    "pd.cut(purchase_data[\"Age\"], age_bins, labels=age_labels)\n",
    "purchase_data[\"Age Group\"] = pd.cut(purchase_data[\"Age\"], age_bins, labels=age_labels)\n",
    "grouped_age_purchase_data = purchase_data.groupby(\"Age Group\")\n",
    "Count_by_Age = grouped_age_purchase_data[\"SN\"].nunique()\n",
    "Percent_by_Age = (Count_by_Age/Total_Count_Players)*100\n",
    "Age_merged = pd.merge(Count_by_Age, Percent_by_Age, on=\"Age Group\", suffixes=('_Total Count','_Percentage of Players'))\n",
    "Age_merged.style.format({'SN_Percentage of Players':'{:.2f}%'})"
   ]
  },
  {
   "cell_type": "markdown",
   "metadata": {},
   "source": [
    "## Purchasing Analysis (Age)"
   ]
  },
  {
   "cell_type": "markdown",
   "metadata": {},
   "source": [
    "* Bin the purchase_data data frame by age\n",
    "\n",
    "\n",
    "* Run basic calculations to obtain purchase count, avg. purchase price, avg. purchase total per person etc. in the table below\n",
    "\n",
    "\n",
    "* Create a summary data frame to hold the results\n",
    "\n",
    "\n",
    "* Optional: give the displayed data cleaner formatting\n",
    "\n",
    "\n",
    "* Display the summary data frame"
   ]
  },
  {
   "cell_type": "code",
   "execution_count": 185,
   "metadata": {},
   "outputs": [
    {
     "data": {
      "text/html": [
       "<style  type=\"text/css\" >\n",
       "</style><table id=\"T_e4d2598c_91cc_11eb_abd1_1cbfc0d40824\" ><thead>    <tr>        <th class=\"blank level0\" ></th>        <th class=\"col_heading level0 col0\" >Purchase Count</th>        <th class=\"col_heading level0 col1\" >Average Purchase Price</th>        <th class=\"col_heading level0 col2\" >Total Purchase Value</th>        <th class=\"col_heading level0 col3\" >Avg Total Purchase Per Person</th>    </tr>    <tr>        <th class=\"index_name level0\" >Age Group</th>        <th class=\"blank\" ></th>        <th class=\"blank\" ></th>        <th class=\"blank\" ></th>        <th class=\"blank\" ></th>    </tr></thead><tbody>\n",
       "                <tr>\n",
       "                        <th id=\"T_e4d2598c_91cc_11eb_abd1_1cbfc0d40824level0_row0\" class=\"row_heading level0 row0\" ><10</th>\n",
       "                        <td id=\"T_e4d2598c_91cc_11eb_abd1_1cbfc0d40824row0_col0\" class=\"data row0 col0\" >23</td>\n",
       "                        <td id=\"T_e4d2598c_91cc_11eb_abd1_1cbfc0d40824row0_col1\" class=\"data row0 col1\" >$3.35</td>\n",
       "                        <td id=\"T_e4d2598c_91cc_11eb_abd1_1cbfc0d40824row0_col2\" class=\"data row0 col2\" >$77.13</td>\n",
       "                        <td id=\"T_e4d2598c_91cc_11eb_abd1_1cbfc0d40824row0_col3\" class=\"data row0 col3\" >$4.54</td>\n",
       "            </tr>\n",
       "            <tr>\n",
       "                        <th id=\"T_e4d2598c_91cc_11eb_abd1_1cbfc0d40824level0_row1\" class=\"row_heading level0 row1\" >10-14</th>\n",
       "                        <td id=\"T_e4d2598c_91cc_11eb_abd1_1cbfc0d40824row1_col0\" class=\"data row1 col0\" >28</td>\n",
       "                        <td id=\"T_e4d2598c_91cc_11eb_abd1_1cbfc0d40824row1_col1\" class=\"data row1 col1\" >$2.96</td>\n",
       "                        <td id=\"T_e4d2598c_91cc_11eb_abd1_1cbfc0d40824row1_col2\" class=\"data row1 col2\" >$82.78</td>\n",
       "                        <td id=\"T_e4d2598c_91cc_11eb_abd1_1cbfc0d40824row1_col3\" class=\"data row1 col3\" >$3.76</td>\n",
       "            </tr>\n",
       "            <tr>\n",
       "                        <th id=\"T_e4d2598c_91cc_11eb_abd1_1cbfc0d40824level0_row2\" class=\"row_heading level0 row2\" >15-19</th>\n",
       "                        <td id=\"T_e4d2598c_91cc_11eb_abd1_1cbfc0d40824row2_col0\" class=\"data row2 col0\" >136</td>\n",
       "                        <td id=\"T_e4d2598c_91cc_11eb_abd1_1cbfc0d40824row2_col1\" class=\"data row2 col1\" >$3.04</td>\n",
       "                        <td id=\"T_e4d2598c_91cc_11eb_abd1_1cbfc0d40824row2_col2\" class=\"data row2 col2\" >$412.89</td>\n",
       "                        <td id=\"T_e4d2598c_91cc_11eb_abd1_1cbfc0d40824row2_col3\" class=\"data row2 col3\" >$3.86</td>\n",
       "            </tr>\n",
       "            <tr>\n",
       "                        <th id=\"T_e4d2598c_91cc_11eb_abd1_1cbfc0d40824level0_row3\" class=\"row_heading level0 row3\" >20-24</th>\n",
       "                        <td id=\"T_e4d2598c_91cc_11eb_abd1_1cbfc0d40824row3_col0\" class=\"data row3 col0\" >365</td>\n",
       "                        <td id=\"T_e4d2598c_91cc_11eb_abd1_1cbfc0d40824row3_col1\" class=\"data row3 col1\" >$3.05</td>\n",
       "                        <td id=\"T_e4d2598c_91cc_11eb_abd1_1cbfc0d40824row3_col2\" class=\"data row3 col2\" >$1114.06</td>\n",
       "                        <td id=\"T_e4d2598c_91cc_11eb_abd1_1cbfc0d40824row3_col3\" class=\"data row3 col3\" >$4.32</td>\n",
       "            </tr>\n",
       "            <tr>\n",
       "                        <th id=\"T_e4d2598c_91cc_11eb_abd1_1cbfc0d40824level0_row4\" class=\"row_heading level0 row4\" >25-29</th>\n",
       "                        <td id=\"T_e4d2598c_91cc_11eb_abd1_1cbfc0d40824row4_col0\" class=\"data row4 col0\" >101</td>\n",
       "                        <td id=\"T_e4d2598c_91cc_11eb_abd1_1cbfc0d40824row4_col1\" class=\"data row4 col1\" >$2.90</td>\n",
       "                        <td id=\"T_e4d2598c_91cc_11eb_abd1_1cbfc0d40824row4_col2\" class=\"data row4 col2\" >$293.00</td>\n",
       "                        <td id=\"T_e4d2598c_91cc_11eb_abd1_1cbfc0d40824row4_col3\" class=\"data row4 col3\" >$3.81</td>\n",
       "            </tr>\n",
       "            <tr>\n",
       "                        <th id=\"T_e4d2598c_91cc_11eb_abd1_1cbfc0d40824level0_row5\" class=\"row_heading level0 row5\" >30-34</th>\n",
       "                        <td id=\"T_e4d2598c_91cc_11eb_abd1_1cbfc0d40824row5_col0\" class=\"data row5 col0\" >73</td>\n",
       "                        <td id=\"T_e4d2598c_91cc_11eb_abd1_1cbfc0d40824row5_col1\" class=\"data row5 col1\" >$2.93</td>\n",
       "                        <td id=\"T_e4d2598c_91cc_11eb_abd1_1cbfc0d40824row5_col2\" class=\"data row5 col2\" >$214.00</td>\n",
       "                        <td id=\"T_e4d2598c_91cc_11eb_abd1_1cbfc0d40824row5_col3\" class=\"data row5 col3\" >$4.12</td>\n",
       "            </tr>\n",
       "            <tr>\n",
       "                        <th id=\"T_e4d2598c_91cc_11eb_abd1_1cbfc0d40824level0_row6\" class=\"row_heading level0 row6\" >35-39</th>\n",
       "                        <td id=\"T_e4d2598c_91cc_11eb_abd1_1cbfc0d40824row6_col0\" class=\"data row6 col0\" >41</td>\n",
       "                        <td id=\"T_e4d2598c_91cc_11eb_abd1_1cbfc0d40824row6_col1\" class=\"data row6 col1\" >$3.60</td>\n",
       "                        <td id=\"T_e4d2598c_91cc_11eb_abd1_1cbfc0d40824row6_col2\" class=\"data row6 col2\" >$147.67</td>\n",
       "                        <td id=\"T_e4d2598c_91cc_11eb_abd1_1cbfc0d40824row6_col3\" class=\"data row6 col3\" >$4.76</td>\n",
       "            </tr>\n",
       "            <tr>\n",
       "                        <th id=\"T_e4d2598c_91cc_11eb_abd1_1cbfc0d40824level0_row7\" class=\"row_heading level0 row7\" >40+</th>\n",
       "                        <td id=\"T_e4d2598c_91cc_11eb_abd1_1cbfc0d40824row7_col0\" class=\"data row7 col0\" >13</td>\n",
       "                        <td id=\"T_e4d2598c_91cc_11eb_abd1_1cbfc0d40824row7_col1\" class=\"data row7 col1\" >$2.94</td>\n",
       "                        <td id=\"T_e4d2598c_91cc_11eb_abd1_1cbfc0d40824row7_col2\" class=\"data row7 col2\" >$38.24</td>\n",
       "                        <td id=\"T_e4d2598c_91cc_11eb_abd1_1cbfc0d40824row7_col3\" class=\"data row7 col3\" >$3.19</td>\n",
       "            </tr>\n",
       "    </tbody></table>"
      ],
      "text/plain": [
       "<pandas.io.formats.style.Styler at 0x1d685f98f40>"
      ]
     },
     "execution_count": 185,
     "metadata": {},
     "output_type": "execute_result"
    }
   ],
   "source": [
    "purchase_count=grouped_age_purchase_data['Purchase ID'].count()\n",
    "avg_purchase_price = grouped_age_purchase_data['Price'].mean()\n",
    "total_purchase_value = grouped_age_purchase_data['Price'].sum()\n",
    "total_players_per_age = grouped_age_purchase_data['SN'].nunique()\n",
    "avg_total_purchase_per_person = total_purchase_value/total_players_per_age\n",
    "Age_Data_Frames = [purchase_count, avg_purchase_price, total_purchase_value, avg_total_purchase_per_person]\n",
    "PurchasebyAge_DataFrames_merged = pd.concat(Age_Data_Frames, axis=1, keys=[\"Purchase Count\",\"Average Purchase Price\",\"Total Purchase Value\",\"Avg Total Purchase Per Person\"])\n",
    "PurchasebyAge_DataFrames_merged.style.format({\"Average Purchase Price\": '${:.2f}', \"Total Purchase Value\": '${:.2f}', \"Avg Total Purchase Per Person\": '${:.2f}'})"
   ]
  },
  {
   "cell_type": "markdown",
   "metadata": {},
   "source": [
    "## Top Spenders"
   ]
  },
  {
   "cell_type": "markdown",
   "metadata": {},
   "source": [
    "* Run basic calculations to obtain the results in the table below\n",
    "\n",
    "\n",
    "* Create a summary data frame to hold the results\n",
    "\n",
    "\n",
    "* Sort the total purchase value column in descending order\n",
    "\n",
    "\n",
    "* Optional: give the displayed data cleaner formatting\n",
    "\n",
    "\n",
    "* Display a preview of the summary data frame\n",
    "\n"
   ]
  },
  {
   "cell_type": "code",
   "execution_count": 214,
   "metadata": {},
   "outputs": [
    {
     "data": {
      "text/html": [
       "<style  type=\"text/css\" >\n",
       "</style><table id=\"T_5498e8a9_91d1_11eb_aa91_1cbfc0d40824\" ><thead>    <tr>        <th class=\"blank level0\" ></th>        <th class=\"col_heading level0 col0\" >Purchase Count</th>        <th class=\"col_heading level0 col1\" >Average Purchase Price</th>        <th class=\"col_heading level0 col2\" >Total Purchase Value</th>    </tr>    <tr>        <th class=\"index_name level0\" >SN</th>        <th class=\"blank\" ></th>        <th class=\"blank\" ></th>        <th class=\"blank\" ></th>    </tr></thead><tbody>\n",
       "                <tr>\n",
       "                        <th id=\"T_5498e8a9_91d1_11eb_aa91_1cbfc0d40824level0_row0\" class=\"row_heading level0 row0\" >Lisosia93</th>\n",
       "                        <td id=\"T_5498e8a9_91d1_11eb_aa91_1cbfc0d40824row0_col0\" class=\"data row0 col0\" >5</td>\n",
       "                        <td id=\"T_5498e8a9_91d1_11eb_aa91_1cbfc0d40824row0_col1\" class=\"data row0 col1\" >$3.79</td>\n",
       "                        <td id=\"T_5498e8a9_91d1_11eb_aa91_1cbfc0d40824row0_col2\" class=\"data row0 col2\" >$18.96</td>\n",
       "            </tr>\n",
       "            <tr>\n",
       "                        <th id=\"T_5498e8a9_91d1_11eb_aa91_1cbfc0d40824level0_row1\" class=\"row_heading level0 row1\" >Idastidru52</th>\n",
       "                        <td id=\"T_5498e8a9_91d1_11eb_aa91_1cbfc0d40824row1_col0\" class=\"data row1 col0\" >4</td>\n",
       "                        <td id=\"T_5498e8a9_91d1_11eb_aa91_1cbfc0d40824row1_col1\" class=\"data row1 col1\" >$3.86</td>\n",
       "                        <td id=\"T_5498e8a9_91d1_11eb_aa91_1cbfc0d40824row1_col2\" class=\"data row1 col2\" >$15.45</td>\n",
       "            </tr>\n",
       "            <tr>\n",
       "                        <th id=\"T_5498e8a9_91d1_11eb_aa91_1cbfc0d40824level0_row2\" class=\"row_heading level0 row2\" >Chamjask73</th>\n",
       "                        <td id=\"T_5498e8a9_91d1_11eb_aa91_1cbfc0d40824row2_col0\" class=\"data row2 col0\" >3</td>\n",
       "                        <td id=\"T_5498e8a9_91d1_11eb_aa91_1cbfc0d40824row2_col1\" class=\"data row2 col1\" >$4.61</td>\n",
       "                        <td id=\"T_5498e8a9_91d1_11eb_aa91_1cbfc0d40824row2_col2\" class=\"data row2 col2\" >$13.83</td>\n",
       "            </tr>\n",
       "            <tr>\n",
       "                        <th id=\"T_5498e8a9_91d1_11eb_aa91_1cbfc0d40824level0_row3\" class=\"row_heading level0 row3\" >Iral74</th>\n",
       "                        <td id=\"T_5498e8a9_91d1_11eb_aa91_1cbfc0d40824row3_col0\" class=\"data row3 col0\" >4</td>\n",
       "                        <td id=\"T_5498e8a9_91d1_11eb_aa91_1cbfc0d40824row3_col1\" class=\"data row3 col1\" >$3.40</td>\n",
       "                        <td id=\"T_5498e8a9_91d1_11eb_aa91_1cbfc0d40824row3_col2\" class=\"data row3 col2\" >$13.62</td>\n",
       "            </tr>\n",
       "            <tr>\n",
       "                        <th id=\"T_5498e8a9_91d1_11eb_aa91_1cbfc0d40824level0_row4\" class=\"row_heading level0 row4\" >Iskadarya95</th>\n",
       "                        <td id=\"T_5498e8a9_91d1_11eb_aa91_1cbfc0d40824row4_col0\" class=\"data row4 col0\" >3</td>\n",
       "                        <td id=\"T_5498e8a9_91d1_11eb_aa91_1cbfc0d40824row4_col1\" class=\"data row4 col1\" >$4.37</td>\n",
       "                        <td id=\"T_5498e8a9_91d1_11eb_aa91_1cbfc0d40824row4_col2\" class=\"data row4 col2\" >$13.10</td>\n",
       "            </tr>\n",
       "    </tbody></table>"
      ],
      "text/plain": [
       "<pandas.io.formats.style.Styler at 0x1d685745820>"
      ]
     },
     "execution_count": 214,
     "metadata": {},
     "output_type": "execute_result"
    }
   ],
   "source": [
    "grouped_sn_purchase_data = purchase_data.groupby('SN')\n",
    "total_purchases = grouped_sn_purchase_data['Purchase ID'].count()\n",
    "total_per_person = grouped_sn_purchase_data['Price'].sum()\n",
    "average_per_person = total_per_person/total_purchases\n",
    "Top_Spender_DataFrames = [total_purchases, average_per_person, total_per_person]\n",
    "Top_Spender_DataFrames_merged = pd.concat(Top_Spender_DataFrames, axis=1, keys=[\"Purchase Count\",\"Average Purchase Price\",\"Total Purchase Value\"])\n",
    "Top_Spender_Sorted = Top_Spender_DataFrames_merged.sort_values(by='Total Purchase Value',ascending=False).head()\n",
    "Top_Spender_Sorted.style.format({\"Average Purchase Price\": '${:.2f}', \"Total Purchase Value\": '${:.2f}'})"
   ]
  },
  {
   "cell_type": "markdown",
   "metadata": {},
   "source": [
    "## Most Popular Items"
   ]
  },
  {
   "cell_type": "markdown",
   "metadata": {},
   "source": [
    "* Retrieve the Item ID, Item Name, and Item Price columns\n",
    "\n",
    "\n",
    "* Group by Item ID and Item Name. Perform calculations to obtain purchase count, item price, and total purchase value\n",
    "\n",
    "\n",
    "* Create a summary data frame to hold the results\n",
    "\n",
    "\n",
    "* Sort the purchase count column in descending order\n",
    "\n",
    "\n",
    "* Optional: give the displayed data cleaner formatting\n",
    "\n",
    "\n",
    "* Display a preview of the summary data frame\n",
    "\n"
   ]
  },
  {
   "cell_type": "code",
   "execution_count": 254,
   "metadata": {},
   "outputs": [
    {
     "data": {
      "text/html": [
       "<style  type=\"text/css\" >\n",
       "</style><table id=\"T_ae761e42_91d8_11eb_bfe4_1cbfc0d40824\" ><thead>    <tr>        <th class=\"blank level0\" ></th>        <th class=\"col_heading level0 col0\" >Purchase Count</th>        <th class=\"col_heading level0 col1\" >Total Purchase Value</th>    </tr>    <tr>        <th class=\"index_name level0\" >Item ID</th>        <th class=\"blank\" ></th>        <th class=\"blank\" ></th>    </tr></thead><tbody>\n",
       "                <tr>\n",
       "                        <th id=\"T_ae761e42_91d8_11eb_bfe4_1cbfc0d40824level0_row0\" class=\"row_heading level0 row0\" >178</th>\n",
       "                        <td id=\"T_ae761e42_91d8_11eb_bfe4_1cbfc0d40824row0_col0\" class=\"data row0 col0\" >12</td>\n",
       "                        <td id=\"T_ae761e42_91d8_11eb_bfe4_1cbfc0d40824row0_col1\" class=\"data row0 col1\" >$50.76</td>\n",
       "            </tr>\n",
       "            <tr>\n",
       "                        <th id=\"T_ae761e42_91d8_11eb_bfe4_1cbfc0d40824level0_row1\" class=\"row_heading level0 row1\" >145</th>\n",
       "                        <td id=\"T_ae761e42_91d8_11eb_bfe4_1cbfc0d40824row1_col0\" class=\"data row1 col0\" >9</td>\n",
       "                        <td id=\"T_ae761e42_91d8_11eb_bfe4_1cbfc0d40824row1_col1\" class=\"data row1 col1\" >$41.22</td>\n",
       "            </tr>\n",
       "            <tr>\n",
       "                        <th id=\"T_ae761e42_91d8_11eb_bfe4_1cbfc0d40824level0_row2\" class=\"row_heading level0 row2\" >108</th>\n",
       "                        <td id=\"T_ae761e42_91d8_11eb_bfe4_1cbfc0d40824row2_col0\" class=\"data row2 col0\" >9</td>\n",
       "                        <td id=\"T_ae761e42_91d8_11eb_bfe4_1cbfc0d40824row2_col1\" class=\"data row2 col1\" >$31.77</td>\n",
       "            </tr>\n",
       "            <tr>\n",
       "                        <th id=\"T_ae761e42_91d8_11eb_bfe4_1cbfc0d40824level0_row3\" class=\"row_heading level0 row3\" >82</th>\n",
       "                        <td id=\"T_ae761e42_91d8_11eb_bfe4_1cbfc0d40824row3_col0\" class=\"data row3 col0\" >9</td>\n",
       "                        <td id=\"T_ae761e42_91d8_11eb_bfe4_1cbfc0d40824row3_col1\" class=\"data row3 col1\" >$44.10</td>\n",
       "            </tr>\n",
       "            <tr>\n",
       "                        <th id=\"T_ae761e42_91d8_11eb_bfe4_1cbfc0d40824level0_row4\" class=\"row_heading level0 row4\" >19</th>\n",
       "                        <td id=\"T_ae761e42_91d8_11eb_bfe4_1cbfc0d40824row4_col0\" class=\"data row4 col0\" >8</td>\n",
       "                        <td id=\"T_ae761e42_91d8_11eb_bfe4_1cbfc0d40824row4_col1\" class=\"data row4 col1\" >$8.16</td>\n",
       "            </tr>\n",
       "    </tbody></table>"
      ],
      "text/plain": [
       "<pandas.io.formats.style.Styler at 0x1d685f60040>"
      ]
     },
     "execution_count": 254,
     "metadata": {},
     "output_type": "execute_result"
    }
   ],
   "source": [
    "grouped_purchase_count = purchase_data.groupby('Item ID')\n",
    "Number_per_item = grouped_purchase_count['Purchase ID'].count()\n",
    "total_purchase_value = grouped_purchase_count['Price'].sum()\n",
    "item_price = pd.merge(total_purchase_value, Number_per_item, on='Item ID')\n",
    "#print(item_price)\n",
    "Popular_Items_DataFrames = [Number_per_item, total_purchase_value]\n",
    "Popular_DataFrames_merged = pd.concat(Popular_Items_DataFrames, axis=1, keys=[\"Purchase Count\", \"Total Purchase Value\"])\n",
    "Popular_Sorted = Popular_DataFrames_merged.sort_values(by='Purchase Count',ascending=False).head()\n",
    "Popular_Sorted.style.format({\"Total Purchase Value\": '${:.2f}'})\n"
   ]
  },
  {
   "cell_type": "markdown",
   "metadata": {},
   "source": [
    "## Most Profitable Items"
   ]
  },
  {
   "cell_type": "markdown",
   "metadata": {},
   "source": [
    "* Sort the above table by total purchase value in descending order\n",
    "\n",
    "\n",
    "* Optional: give the displayed data cleaner formatting\n",
    "\n",
    "\n",
    "* Display a preview of the data frame\n",
    "\n"
   ]
  },
  {
   "cell_type": "code",
   "execution_count": 257,
   "metadata": {
    "scrolled": true
   },
   "outputs": [
    {
     "data": {
      "text/html": [
       "<style  type=\"text/css\" >\n",
       "</style><table id=\"T_4087d093_91d9_11eb_8fca_1cbfc0d40824\" ><thead>    <tr>        <th class=\"blank level0\" ></th>        <th class=\"col_heading level0 col0\" >Purchase Count</th>        <th class=\"col_heading level0 col1\" >Total Purchase Value</th>    </tr>    <tr>        <th class=\"index_name level0\" >Item ID</th>        <th class=\"blank\" ></th>        <th class=\"blank\" ></th>    </tr></thead><tbody>\n",
       "                <tr>\n",
       "                        <th id=\"T_4087d093_91d9_11eb_8fca_1cbfc0d40824level0_row0\" class=\"row_heading level0 row0\" >178</th>\n",
       "                        <td id=\"T_4087d093_91d9_11eb_8fca_1cbfc0d40824row0_col0\" class=\"data row0 col0\" >12</td>\n",
       "                        <td id=\"T_4087d093_91d9_11eb_8fca_1cbfc0d40824row0_col1\" class=\"data row0 col1\" >$50.76</td>\n",
       "            </tr>\n",
       "            <tr>\n",
       "                        <th id=\"T_4087d093_91d9_11eb_8fca_1cbfc0d40824level0_row1\" class=\"row_heading level0 row1\" >82</th>\n",
       "                        <td id=\"T_4087d093_91d9_11eb_8fca_1cbfc0d40824row1_col0\" class=\"data row1 col0\" >9</td>\n",
       "                        <td id=\"T_4087d093_91d9_11eb_8fca_1cbfc0d40824row1_col1\" class=\"data row1 col1\" >$44.10</td>\n",
       "            </tr>\n",
       "            <tr>\n",
       "                        <th id=\"T_4087d093_91d9_11eb_8fca_1cbfc0d40824level0_row2\" class=\"row_heading level0 row2\" >145</th>\n",
       "                        <td id=\"T_4087d093_91d9_11eb_8fca_1cbfc0d40824row2_col0\" class=\"data row2 col0\" >9</td>\n",
       "                        <td id=\"T_4087d093_91d9_11eb_8fca_1cbfc0d40824row2_col1\" class=\"data row2 col1\" >$41.22</td>\n",
       "            </tr>\n",
       "            <tr>\n",
       "                        <th id=\"T_4087d093_91d9_11eb_8fca_1cbfc0d40824level0_row3\" class=\"row_heading level0 row3\" >92</th>\n",
       "                        <td id=\"T_4087d093_91d9_11eb_8fca_1cbfc0d40824row3_col0\" class=\"data row3 col0\" >8</td>\n",
       "                        <td id=\"T_4087d093_91d9_11eb_8fca_1cbfc0d40824row3_col1\" class=\"data row3 col1\" >$39.04</td>\n",
       "            </tr>\n",
       "            <tr>\n",
       "                        <th id=\"T_4087d093_91d9_11eb_8fca_1cbfc0d40824level0_row4\" class=\"row_heading level0 row4\" >103</th>\n",
       "                        <td id=\"T_4087d093_91d9_11eb_8fca_1cbfc0d40824row4_col0\" class=\"data row4 col0\" >8</td>\n",
       "                        <td id=\"T_4087d093_91d9_11eb_8fca_1cbfc0d40824row4_col1\" class=\"data row4 col1\" >$34.80</td>\n",
       "            </tr>\n",
       "    </tbody></table>"
      ],
      "text/plain": [
       "<pandas.io.formats.style.Styler at 0x1d686e0ed00>"
      ]
     },
     "execution_count": 257,
     "metadata": {},
     "output_type": "execute_result"
    }
   ],
   "source": [
    "Popular_Sorted = Popular_Sorted.sort_values(by='Total Purchase Value', ascending = False).head()\n",
    "Popular_Sorted.style.format({\"Total Purchase Value\": '${:.2f}'})"
   ]
  },
  {
   "cell_type": "code",
   "execution_count": null,
   "metadata": {},
   "outputs": [],
   "source": []
  }
 ],
 "metadata": {
  "anaconda-cloud": {},
  "kernel_info": {
   "name": "python3"
  },
  "kernelspec": {
   "display_name": "Python 3",
   "language": "python",
   "name": "python3"
  },
  "language_info": {
   "codemirror_mode": {
    "name": "ipython",
    "version": 3
   },
   "file_extension": ".py",
   "mimetype": "text/x-python",
   "name": "python",
   "nbconvert_exporter": "python",
   "pygments_lexer": "ipython3",
   "version": "3.8.5"
  },
  "nteract": {
   "version": "0.2.0"
  }
 },
 "nbformat": 4,
 "nbformat_minor": 4
}
