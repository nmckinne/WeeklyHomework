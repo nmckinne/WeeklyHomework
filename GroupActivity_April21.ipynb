{
 "cells": [
  {
   "cell_type": "markdown",
   "metadata": {},
   "source": [
    "# Group Activity\n",
    "\n",
    "Lookup information on geometric mean and harmonic mean to answer the following\n",
    "questions:\n",
    "a. In a jupyter notebook create a markdown section for each of the three concepts:\n",
    "arithmetic mean, geometric mean, and harmonic mean\n",
    "b. Write a definition for arithmetic mean, geometric mean, and harmonic mean,\n",
    "under their respective headings\n",
    "c. Write a code example for arithmetic mean, geometric mean, and harmonic mean\n",
    "using the Belize Airbnb data in a cell under the each respective summary in\n",
    "markdown\n"
   ]
  },
  {
   "cell_type": "markdown",
   "metadata": {},
   "source": [
    "# Arithmetic Mean\n",
    "\n",
    "Definition: the arithmetic mean in the average of all of the values in a dataset.  You get this by taking the sum of all of the values and then dividing the sum by the number of values. "
   ]
  },
  {
   "cell_type": "code",
   "execution_count": 97,
   "metadata": {},
   "outputs": [
    {
     "name": "stdout",
     "output_type": "stream",
     "text": [
      "The arithmetic mean  price    357.102289\n",
      "dtype: float64\n",
      "price    2796\n",
      "dtype: int64\n",
      "price    357.102289\n",
      "dtype: float64\n"
     ]
    }
   ],
   "source": [
    "# Example of Arithmetic Mean\n",
    "# the usual suspects\n",
    "import numpy as np\n",
    "import pandas as pd\n",
    "\n",
    "#modules for statistics\n",
    "import math \n",
    "import statistics \n",
    "from scipy import stats\n",
    "\n",
    "#get the belize data\n",
    "belize_listings_path = \"../week_05/belize_airbnb_listings.csv\"\n",
    "belize_df = pd.read_csv(belize_listings_path)\n",
    "#print(belize_df.head())\n",
    "#get the mean of the number of reviews\n",
    "\n",
    "#calculating the arithmetic mean using the count function\n",
    "arithmetic_mean_belize_price = belize_df[[\"price\"]].mean()\n",
    "print(\"The arithmetic mean \", arithmetic_mean_belize_price)\n",
    "\n",
    "#calculating the aritmetic mean using sum of all values/ number of non-missing values\n",
    "n=belize_df[[\"price\"]].count()\n",
    "print(n)\n",
    "sum_price = belize_df[[\"price\"]].sum()\n",
    "arithmetic_mean = sum_price/n\n",
    "print(arithmetic_mean)"
   ]
  },
  {
   "cell_type": "markdown",
   "metadata": {},
   "source": [
    "# Geometric Mean\n",
    "\n",
    "Definition: the geometric mean is a measure of central tendency where we use the product of a set of values and then raise that product to the 1/nth power where n is the number of values in the dataset.  For example, if you have 2 and 8, then you multiply them together to get 16 and raise it to the power of 1/2 (take the square root) then you get 4. The geometric mean is useful when there is not a linear relationships between the values in the dataset. \n",
    "\n"
   ]
  },
  {
   "cell_type": "code",
   "execution_count": 95,
   "metadata": {},
   "outputs": [
    {
     "name": "stdout",
     "output_type": "stream",
     "text": [
      "The Geometric Mean is: 234.7347175108817\n",
      "2796\n",
      "inf\n",
      "The Geometric Mean is: inf\n"
     ]
    }
   ],
   "source": [
    "#calculating geometric mean using scipy function\n",
    "\n",
    "geometric_mean = stats.gmean(belize_df.loc[:,'price'])\n",
    "print ('The Geometric Mean is: ' + str(geometric_mean)) \n",
    "\n",
    "#You could use a code similar to the one below to find the geometric mean, however, this dataset is too large for this method. \n",
    "multiply = 1.0\n",
    "values = [i for i in belize_df['price'] if not math.isnan(i)] \n",
    "#print(values)\n",
    "values2 = [x+1 if x==0 else x for x in values]\n",
    "#print(values2)\n",
    "    \n",
    "n = len(values2)\n",
    "print(n)\n",
    "\n",
    "for i in values2:\n",
    "    multiply = (multiply)*(i)\n",
    "print(multiply)\n",
    "\n",
    "geometricMean = (multiply)**(1/n)\n",
    "print ('The Geometric Mean is: ' + str(geometricMean)) \n",
    "\n"
   ]
  },
  {
   "cell_type": "markdown",
   "metadata": {},
   "source": [
    "# Harmonic Mean\n",
    "\n",
    "Definition: The harmonic mean can be expressed as the reciprocal of the arithmetic mean of the reciprocals of the given set of observations.  This would be useful when you want to find the average of rates on different scales. "
   ]
  },
  {
   "cell_type": "code",
   "execution_count": 96,
   "metadata": {},
   "outputs": [
    {
     "name": "stdout",
     "output_type": "stream",
     "text": [
      "The Harmonic Mean is: 234.7347175108817\n"
     ]
    }
   ],
   "source": [
    "#calculating harmonic mean using scipy function\n",
    "\n",
    "harmonic_mean = stats.hmean(belize_df.loc[:,'price'])\n",
    "print ('The Harmonic Mean is: ' + str(geometric_mean)) "
   ]
  },
  {
   "cell_type": "code",
   "execution_count": null,
   "metadata": {},
   "outputs": [],
   "source": []
  }
 ],
 "metadata": {
  "kernelspec": {
   "display_name": "Python 3",
   "language": "python",
   "name": "python3"
  },
  "language_info": {
   "codemirror_mode": {
    "name": "ipython",
    "version": 3
   },
   "file_extension": ".py",
   "mimetype": "text/x-python",
   "name": "python",
   "nbconvert_exporter": "python",
   "pygments_lexer": "ipython3",
   "version": "3.8.5"
  }
 },
 "nbformat": 4,
 "nbformat_minor": 4
}
