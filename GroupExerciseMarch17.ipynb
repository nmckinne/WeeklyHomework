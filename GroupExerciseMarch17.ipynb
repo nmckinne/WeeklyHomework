{
 "cells": [
  {
   "cell_type": "code",
   "execution_count": 12,
   "metadata": {},
   "outputs": [],
   "source": [
    "#function to work with two integers and output the result of various calculations using those integers. \n",
    "\n",
    "def three(a,b):\n",
    "        \n",
    "    sumnum = a + b\n",
    "\n",
    "    diff = a - b\n",
    "\n",
    "    prod = a * b\n",
    "\n",
    "    if sumnum == 0:\n",
    "        print(\"a+b=zero\")\n",
    "    else:\n",
    "        print(\"a+b=\", sumnum)\n",
    "    \n",
    "    if diff == 0:\n",
    "        print(\"a-b=zero\")\n",
    "    else:\n",
    "        print(\"a-b=\", diff)\n",
    "    \n",
    "    if prod == 0:\n",
    "        print(\"a*b=zero\")\n",
    "    else:\n",
    "        print(\"a*b=\", prod)\n",
    "    "
   ]
  },
  {
   "cell_type": "code",
   "execution_count": 19,
   "metadata": {},
   "outputs": [
    {
     "name": "stdout",
     "output_type": "stream",
     "text": [
      "a+b= -5\n",
      "a-b= -1\n",
      "a*b= 6\n"
     ]
    }
   ],
   "source": [
    "three(-3,-2)"
   ]
  },
  {
   "cell_type": "code",
   "execution_count": null,
   "metadata": {},
   "outputs": [],
   "source": [
    "\n",
    "    \n",
    "    "
   ]
  }
 ],
 "metadata": {
  "kernelspec": {
   "display_name": "Python 3",
   "language": "python",
   "name": "python3"
  },
  "language_info": {
   "codemirror_mode": {
    "name": "ipython",
    "version": 3
   },
   "file_extension": ".py",
   "mimetype": "text/x-python",
   "name": "python",
   "nbconvert_exporter": "python",
   "pygments_lexer": "ipython3",
   "version": "3.8.5"
  }
 },
 "nbformat": 4,
 "nbformat_minor": 4
}
