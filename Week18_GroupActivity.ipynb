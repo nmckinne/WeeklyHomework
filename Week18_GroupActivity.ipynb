{
 "cells": [
  {
   "cell_type": "markdown",
   "metadata": {},
   "source": [
    "# Question 1:\n",
    "\n",
    "Look up the Adam optimization functions in PyTorch\n",
    "https://pytorch.org/docs/stable/optim.html . How does it work? Try at least one other\n",
    "optimization function with the diabetes dataset shown in class. How does the model\n",
    "perform with the new optimizer? Did it perform better or worse than Adam? Why do you\n",
    "think that is?"
   ]
  },
  {
   "cell_type": "markdown",
   "metadata": {},
   "source": [
    "Optimizers work by updating the parameters of the model at each step. At each step the optimizer can evaluate the model and return the loss. The Adam optimization functions uses a per-parameter learning rate that can change at each step.  It is similar to stochastic gradient descent, however it builds on that because it updates the learning rate for all parameters throughout training of the model, while stochastic gradient descent keeps the same learning rate throughout.  "
   ]
  },
  {
   "cell_type": "code",
   "execution_count": 141,
   "metadata": {},
   "outputs": [
    {
     "data": {
      "text/html": [
       "<div>\n",
       "<style scoped>\n",
       "    .dataframe tbody tr th:only-of-type {\n",
       "        vertical-align: middle;\n",
       "    }\n",
       "\n",
       "    .dataframe tbody tr th {\n",
       "        vertical-align: top;\n",
       "    }\n",
       "\n",
       "    .dataframe thead th {\n",
       "        text-align: right;\n",
       "    }\n",
       "</style>\n",
       "<table border=\"1\" class=\"dataframe\">\n",
       "  <thead>\n",
       "    <tr style=\"text-align: right;\">\n",
       "      <th></th>\n",
       "      <th>Pregnancies</th>\n",
       "      <th>Glucose</th>\n",
       "      <th>BloodPressure</th>\n",
       "      <th>SkinThickness</th>\n",
       "      <th>Insulin</th>\n",
       "      <th>BMI</th>\n",
       "      <th>DiabetesPedigreeFunction</th>\n",
       "      <th>Age</th>\n",
       "      <th>Outcome</th>\n",
       "    </tr>\n",
       "  </thead>\n",
       "  <tbody>\n",
       "    <tr>\n",
       "      <th>0</th>\n",
       "      <td>6</td>\n",
       "      <td>148</td>\n",
       "      <td>72</td>\n",
       "      <td>35</td>\n",
       "      <td>0</td>\n",
       "      <td>33.6</td>\n",
       "      <td>0.627</td>\n",
       "      <td>50</td>\n",
       "      <td>1</td>\n",
       "    </tr>\n",
       "    <tr>\n",
       "      <th>1</th>\n",
       "      <td>1</td>\n",
       "      <td>85</td>\n",
       "      <td>66</td>\n",
       "      <td>29</td>\n",
       "      <td>0</td>\n",
       "      <td>26.6</td>\n",
       "      <td>0.351</td>\n",
       "      <td>31</td>\n",
       "      <td>0</td>\n",
       "    </tr>\n",
       "    <tr>\n",
       "      <th>2</th>\n",
       "      <td>8</td>\n",
       "      <td>183</td>\n",
       "      <td>64</td>\n",
       "      <td>0</td>\n",
       "      <td>0</td>\n",
       "      <td>23.3</td>\n",
       "      <td>0.672</td>\n",
       "      <td>32</td>\n",
       "      <td>1</td>\n",
       "    </tr>\n",
       "    <tr>\n",
       "      <th>3</th>\n",
       "      <td>1</td>\n",
       "      <td>89</td>\n",
       "      <td>66</td>\n",
       "      <td>23</td>\n",
       "      <td>94</td>\n",
       "      <td>28.1</td>\n",
       "      <td>0.167</td>\n",
       "      <td>21</td>\n",
       "      <td>0</td>\n",
       "    </tr>\n",
       "    <tr>\n",
       "      <th>4</th>\n",
       "      <td>0</td>\n",
       "      <td>137</td>\n",
       "      <td>40</td>\n",
       "      <td>35</td>\n",
       "      <td>168</td>\n",
       "      <td>43.1</td>\n",
       "      <td>2.288</td>\n",
       "      <td>33</td>\n",
       "      <td>1</td>\n",
       "    </tr>\n",
       "  </tbody>\n",
       "</table>\n",
       "</div>"
      ],
      "text/plain": [
       "   Pregnancies  Glucose  BloodPressure  SkinThickness  Insulin   BMI  \\\n",
       "0            6      148             72             35        0  33.6   \n",
       "1            1       85             66             29        0  26.6   \n",
       "2            8      183             64              0        0  23.3   \n",
       "3            1       89             66             23       94  28.1   \n",
       "4            0      137             40             35      168  43.1   \n",
       "\n",
       "   DiabetesPedigreeFunction  Age  Outcome  \n",
       "0                     0.627   50        1  \n",
       "1                     0.351   31        0  \n",
       "2                     0.672   32        1  \n",
       "3                     0.167   21        0  \n",
       "4                     2.288   33        1  "
      ]
     },
     "execution_count": 141,
     "metadata": {},
     "output_type": "execute_result"
    }
   ],
   "source": [
    "import pandas as pd\n",
    "import torch\n",
    "\n",
    "diabetes_df = pd.read_csv(\"../week_13/diabetes.csv\")\n",
    "diabetes_df.head()"
   ]
  },
  {
   "cell_type": "code",
   "execution_count": 142,
   "metadata": {},
   "outputs": [],
   "source": [
    "from sklearn.model_selection import train_test_split\n",
    "from sklearn.preprocessing import StandardScaler\n",
    "\n",
    "X=diabetes_df.drop('Outcome', axis=1).values\n",
    "y = diabetes_df['Outcome'].values\n",
    "\n",
    "X_train, X_test, y_train, y_test = train_test_split(X, y, test_size=0.2, random_state=42, stratify=y)\n"
   ]
  },
  {
   "cell_type": "code",
   "execution_count": 143,
   "metadata": {},
   "outputs": [
    {
     "name": "stdout",
     "output_type": "stream",
     "text": [
      "tensor([[1.0000e+00, 9.0000e+01, 6.2000e+01,  ..., 2.7200e+01, 5.8000e-01,\n",
      "         2.4000e+01],\n",
      "        [5.0000e+00, 1.2600e+02, 7.8000e+01,  ..., 2.9600e+01, 4.3900e-01,\n",
      "         4.0000e+01],\n",
      "        [2.0000e+00, 1.0500e+02, 5.8000e+01,  ..., 3.4900e+01, 2.2500e-01,\n",
      "         2.5000e+01],\n",
      "        ...,\n",
      "        [1.0000e+00, 9.7000e+01, 7.0000e+01,  ..., 3.8100e+01, 2.1800e-01,\n",
      "         3.0000e+01],\n",
      "        [1.0000e+01, 1.1100e+02, 7.0000e+01,  ..., 2.7500e+01, 1.4100e-01,\n",
      "         4.0000e+01],\n",
      "        [4.0000e+00, 1.4400e+02, 5.8000e+01,  ..., 2.9500e+01, 2.8700e-01,\n",
      "         3.7000e+01]])\n"
     ]
    }
   ],
   "source": [
    "import torch.nn as nn\n",
    "import torch.nn.functional as F #this has activation functions\n",
    "\n",
    "#Creating tensors\n",
    "X_train = torch.FloatTensor(X_train)\n",
    "X_test = torch.FloatTensor(X_test)\n",
    "\n",
    "y_train = torch.LongTensor(y_train)\n",
    "y_test = torch.LongTensor(y_test)\n",
    "\n",
    "print(X_train)"
   ]
  },
  {
   "cell_type": "code",
   "execution_count": 146,
   "metadata": {},
   "outputs": [],
   "source": [
    "class ANN_Model(nn.Module):\n",
    "    def __init__(self, input_features=8, hidden1=20, hidden2=20, out_features=2):\n",
    "        super().__init__()\n",
    "        self.layer_1_connection = nn.Linear(input_features, hidden1)\n",
    "        self.layer_2_connection = nn.Linear(hidden1, hidden2)\n",
    "        self.out = nn.Linear(hidden2, out_features)\n",
    "        \n",
    "    def forward(self, x): \n",
    "        x = F.relu(self.layer_1_connection(x))\n",
    "        x = F.relu(self.layer_2_connection(x))\n",
    "        x = self.out(x)\n",
    "        return x"
   ]
  },
  {
   "cell_type": "code",
   "execution_count": 147,
   "metadata": {},
   "outputs": [],
   "source": [
    "torch.manual_seed(42)\n",
    "\n",
    "#instantiate the model\n",
    "model = ANN_Model()"
   ]
  },
  {
   "cell_type": "code",
   "execution_count": 148,
   "metadata": {},
   "outputs": [],
   "source": [
    "# Loss function\n",
    "loss_function = nn.CrossEntropyLoss()\n",
    "\n",
    "#Optimizer\n",
    "optimizer = torch.optim.Adam(model.parameters(), lr = 0.01)"
   ]
  },
  {
   "cell_type": "code",
   "execution_count": 149,
   "metadata": {},
   "outputs": [
    {
     "name": "stdout",
     "output_type": "stream",
     "text": [
      "Epoch number: 1 with loss: 0.7310296297073364\n",
      "Epoch number: 11 with loss: 0.6581035852432251\n",
      "Epoch number: 21 with loss: 0.6340878009796143\n",
      "Epoch number: 31 with loss: 0.6144365668296814\n",
      "Epoch number: 41 with loss: 0.591715395450592\n",
      "Epoch number: 51 with loss: 0.5678935050964355\n",
      "Epoch number: 61 with loss: 0.5529173612594604\n",
      "Epoch number: 71 with loss: 0.5399057865142822\n",
      "Epoch number: 81 with loss: 0.5277354121208191\n",
      "Epoch number: 91 with loss: 0.5180846452713013\n",
      "Epoch number: 101 with loss: 0.5108497738838196\n",
      "Epoch number: 111 with loss: 0.5028660893440247\n",
      "Epoch number: 121 with loss: 0.4947950541973114\n",
      "Epoch number: 131 with loss: 0.48683962225914\n",
      "Epoch number: 141 with loss: 0.47834235429763794\n",
      "Epoch number: 151 with loss: 0.4712027311325073\n",
      "Epoch number: 161 with loss: 0.46509668231010437\n",
      "Epoch number: 171 with loss: 0.4602738320827484\n",
      "Epoch number: 181 with loss: 0.45450371503829956\n",
      "Epoch number: 191 with loss: 0.4466153681278229\n",
      "Epoch number: 201 with loss: 0.44014832377433777\n",
      "Epoch number: 211 with loss: 0.4536690413951874\n",
      "Epoch number: 221 with loss: 0.44314515590667725\n",
      "Epoch number: 231 with loss: 0.43283191323280334\n",
      "Epoch number: 241 with loss: 0.4559122920036316\n",
      "Epoch number: 251 with loss: 0.42641907930374146\n",
      "Epoch number: 261 with loss: 0.4190237522125244\n",
      "Epoch number: 271 with loss: 0.40445810556411743\n",
      "Epoch number: 281 with loss: 0.4032858610153198\n",
      "Epoch number: 291 with loss: 0.39632120728492737\n",
      "Epoch number: 301 with loss: 0.4062458872795105\n",
      "Epoch number: 311 with loss: 0.3834536671638489\n",
      "Epoch number: 321 with loss: 0.3813766837120056\n",
      "Epoch number: 331 with loss: 0.3676556646823883\n",
      "Epoch number: 341 with loss: 0.366443932056427\n",
      "Epoch number: 351 with loss: 0.4198916554450989\n",
      "Epoch number: 361 with loss: 0.36519908905029297\n",
      "Epoch number: 371 with loss: 0.35545313358306885\n",
      "Epoch number: 381 with loss: 0.34903043508529663\n",
      "Epoch number: 391 with loss: 0.33827754855155945\n",
      "Epoch number: 401 with loss: 0.3464251756668091\n",
      "Epoch number: 411 with loss: 0.32868680357933044\n",
      "Epoch number: 421 with loss: 0.33292731642723083\n",
      "Epoch number: 431 with loss: 0.3258645534515381\n",
      "Epoch number: 441 with loss: 0.3259207606315613\n",
      "Epoch number: 451 with loss: 0.32214319705963135\n",
      "Epoch number: 461 with loss: 0.3132361173629761\n",
      "Epoch number: 471 with loss: 0.3098999559879303\n",
      "Epoch number: 481 with loss: 0.30848631262779236\n",
      "Epoch number: 491 with loss: 0.3243010640144348\n"
     ]
    }
   ],
   "source": [
    "#run model through multiple epochs\n",
    "final_loss = []\n",
    "n_epochs = 500\n",
    "for epoch in range(n_epochs):\n",
    "    y_pred = model.forward(X_train)\n",
    "    loss = loss_function(y_pred, y_train)\n",
    "    final_loss.append(loss)\n",
    "    \n",
    "    if epoch % 10 == 1: \n",
    "        print(f'Epoch number: {epoch} with loss: {loss.item()}')\n",
    "        \n",
    "    optimizer.zero_grad()  #clears the gradient before running backwards propagation\n",
    "    loss.backward() #for backward propagation\n",
    "    optimizer.step() #performs one optimization step each epoch"
   ]
  },
  {
   "cell_type": "code",
   "execution_count": 150,
   "metadata": {},
   "outputs": [],
   "source": [
    "#predictions\n",
    "y_pred = []\n",
    "\n",
    "with torch.no_grad():\n",
    "    for i, data in enumerate(X_test):\n",
    "        prediction = model(data)\n",
    "        y_pred.append(prediction.argmax().item())"
   ]
  },
  {
   "cell_type": "code",
   "execution_count": 151,
   "metadata": {},
   "outputs": [
    {
     "name": "stdout",
     "output_type": "stream",
     "text": [
      "0.7207792207792207\n"
     ]
    }
   ],
   "source": [
    "from sklearn.metrics import accuracy_score\n",
    "a_score = accuracy_score(y_test, y_pred)\n",
    "print(a_score)"
   ]
  },
  {
   "cell_type": "code",
   "execution_count": 152,
   "metadata": {},
   "outputs": [
    {
     "name": "stdout",
     "output_type": "stream",
     "text": [
      "              precision    recall  f1-score   support\n",
      "\n",
      "           0       0.78      0.79      0.79       100\n",
      "           1       0.60      0.59      0.60        54\n",
      "\n",
      "    accuracy                           0.72       154\n",
      "   macro avg       0.69      0.69      0.69       154\n",
      "weighted avg       0.72      0.72      0.72       154\n",
      "\n"
     ]
    }
   ],
   "source": [
    "from sklearn.metrics import classification_report\n",
    "\n",
    "print(classification_report(y_test, y_pred))"
   ]
  },
  {
   "cell_type": "markdown",
   "metadata": {},
   "source": [
    "# Use a different optimization: Stochastic Gradient Descent"
   ]
  },
  {
   "cell_type": "code",
   "execution_count": 174,
   "metadata": {},
   "outputs": [],
   "source": [
    "#Optimizer\n",
    "optimizer = torch.optim.SGD(model.parameters(), lr = 0.01)"
   ]
  },
  {
   "cell_type": "code",
   "execution_count": 175,
   "metadata": {},
   "outputs": [
    {
     "name": "stdout",
     "output_type": "stream",
     "text": [
      "Epoch number: 1 with loss: 0.8413105010986328\n",
      "Epoch number: 11 with loss: 4.089559078216553\n",
      "Epoch number: 21 with loss: 3.4423537254333496\n",
      "Epoch number: 31 with loss: 2.8429617881774902\n",
      "Epoch number: 41 with loss: 2.2629141807556152\n",
      "Epoch number: 51 with loss: 1.7017086744308472\n",
      "Epoch number: 61 with loss: 1.1851328611373901\n",
      "Epoch number: 71 with loss: 0.8169639110565186\n",
      "Epoch number: 81 with loss: 0.6704997420310974\n",
      "Epoch number: 91 with loss: 0.6415143013000488\n",
      "Epoch number: 101 with loss: 0.6374567151069641\n",
      "Epoch number: 111 with loss: 0.636874258518219\n",
      "Epoch number: 121 with loss: 0.6367053389549255\n",
      "Epoch number: 131 with loss: 0.6366013288497925\n",
      "Epoch number: 141 with loss: 0.636509120464325\n",
      "Epoch number: 151 with loss: 0.6364208459854126\n",
      "Epoch number: 161 with loss: 0.6363317966461182\n",
      "Epoch number: 171 with loss: 0.6362389922142029\n",
      "Epoch number: 181 with loss: 0.6361460089683533\n",
      "Epoch number: 191 with loss: 0.6360546350479126\n",
      "Epoch number: 201 with loss: 0.6359624862670898\n",
      "Epoch number: 211 with loss: 0.6357969641685486\n",
      "Epoch number: 221 with loss: 0.6374390721321106\n",
      "Epoch number: 231 with loss: 0.6357530355453491\n",
      "Epoch number: 241 with loss: 0.6357073783874512\n",
      "Epoch number: 251 with loss: 0.6373403072357178\n",
      "Epoch number: 261 with loss: 0.6355869770050049\n",
      "Epoch number: 271 with loss: 0.6356455087661743\n",
      "Epoch number: 281 with loss: 0.6372465491294861\n",
      "Epoch number: 291 with loss: 0.6354214549064636\n",
      "Epoch number: 301 with loss: 0.6356039643287659\n",
      "Epoch number: 311 with loss: 0.6371592879295349\n",
      "Epoch number: 321 with loss: 0.6352579593658447\n",
      "Epoch number: 331 with loss: 0.6355792880058289\n",
      "Epoch number: 341 with loss: 0.6370753645896912\n",
      "Epoch number: 351 with loss: 0.6350745558738708\n",
      "Epoch number: 361 with loss: 0.6356370449066162\n",
      "Epoch number: 371 with loss: 0.6370071768760681\n",
      "Epoch number: 381 with loss: 0.6349104642868042\n",
      "Epoch number: 391 with loss: 0.6356572508811951\n",
      "Epoch number: 401 with loss: 0.6349160075187683\n",
      "Epoch number: 411 with loss: 0.634900689125061\n",
      "Epoch number: 421 with loss: 0.6348868608474731\n",
      "Epoch number: 431 with loss: 0.6348722577095032\n",
      "Epoch number: 441 with loss: 0.6348579525947571\n",
      "Epoch number: 451 with loss: 0.634844183921814\n",
      "Epoch number: 461 with loss: 0.6348304152488708\n",
      "Epoch number: 471 with loss: 0.6348172426223755\n",
      "Epoch number: 481 with loss: 0.634804368019104\n",
      "Epoch number: 491 with loss: 0.6347916126251221\n"
     ]
    }
   ],
   "source": [
    "#run model through multiple epochs\n",
    "final_loss = []\n",
    "n_epochs = 500\n",
    "for epoch in range(n_epochs):\n",
    "    y_pred = model.forward(X_train)\n",
    "    loss = loss_function(y_pred, y_train)\n",
    "    final_loss.append(loss)\n",
    "    \n",
    "    if epoch % 10 == 1: \n",
    "        print(f'Epoch number: {epoch} with loss: {loss.item()}')\n",
    "        \n",
    "    optimizer.zero_grad()  #clears the gradient before running backwards propagation\n",
    "    loss.backward() #for backward propagation\n",
    "    optimizer.step() #performs one optimization step each epoch"
   ]
  },
  {
   "cell_type": "code",
   "execution_count": 176,
   "metadata": {},
   "outputs": [],
   "source": [
    "#predictions\n",
    "y_pred = []\n",
    "\n",
    "with torch.no_grad():\n",
    "    for i, data in enumerate(X_test):\n",
    "        prediction = model(data)\n",
    "        y_pred.append(prediction.argmax().item())"
   ]
  },
  {
   "cell_type": "code",
   "execution_count": 177,
   "metadata": {},
   "outputs": [
    {
     "name": "stdout",
     "output_type": "stream",
     "text": [
      "0.6428571428571429\n"
     ]
    }
   ],
   "source": [
    "from sklearn.metrics import accuracy_score\n",
    "a_score = accuracy_score(y_test, y_pred)\n",
    "print(a_score)"
   ]
  },
  {
   "cell_type": "code",
   "execution_count": 178,
   "metadata": {},
   "outputs": [
    {
     "name": "stdout",
     "output_type": "stream",
     "text": [
      "              precision    recall  f1-score   support\n",
      "\n",
      "           0       0.65      0.99      0.78       100\n",
      "           1       0.00      0.00      0.00        54\n",
      "\n",
      "    accuracy                           0.64       154\n",
      "   macro avg       0.32      0.49      0.39       154\n",
      "weighted avg       0.42      0.64      0.51       154\n",
      "\n"
     ]
    }
   ],
   "source": [
    "from sklearn.metrics import classification_report\n",
    "\n",
    "print(classification_report(y_test, y_pred))"
   ]
  },
  {
   "cell_type": "markdown",
   "metadata": {},
   "source": [
    "Stochastic Gradient Descent didn't perform as well as Adam.  The accuracy score was 0.64 for SGD, while it was 0.72 for Adam.  This is because it uses a constant learning rate throughout, instead of an updated, per-parameter learning rate throughout like Adam. "
   ]
  },
  {
   "cell_type": "markdown",
   "metadata": {},
   "source": [
    "# Question 2:\n",
    "\n",
    "Write a function that lists and counts the number of divisors for an input value.\n",
    "Example 1:\n",
    "Input: 5\n",
    "Output: “There are 2 divisors: 1 and 5”\n",
    "Example 2:\n",
    "Input: 40\n",
    "Output: “There are 8 divisors: 1, 2, 4, 5, 8, 10, 20, and 40\""
   ]
  },
  {
   "cell_type": "code",
   "execution_count": 137,
   "metadata": {},
   "outputs": [],
   "source": [
    "def num_divisors(n):\n",
    "    num_list = []\n",
    "    for x in range(1,1000,1):\n",
    "        if n % x == 0:\n",
    "            num_list.append(x)\n",
    "    name_string = ', '.join([str(x) for x in num_list[0:-1]]) + ' and ' + str(num_list[-1])\n",
    "    return \"There are \" + str(len(num_list)) + \" divisors: \" + name_string"
   ]
  },
  {
   "cell_type": "code",
   "execution_count": 138,
   "metadata": {},
   "outputs": [
    {
     "data": {
      "text/plain": [
       "'There are 8 divisors: 1, 2, 4, 5, 8, 10, 20 and 40'"
      ]
     },
     "execution_count": 138,
     "metadata": {},
     "output_type": "execute_result"
    }
   ],
   "source": [
    "num_divisors(40)"
   ]
  },
  {
   "cell_type": "code",
   "execution_count": 139,
   "metadata": {},
   "outputs": [
    {
     "data": {
      "text/plain": [
       "'There are 2 divisors: 1 and 5'"
      ]
     },
     "execution_count": 139,
     "metadata": {},
     "output_type": "execute_result"
    }
   ],
   "source": [
    "num_divisors(5)"
   ]
  },
  {
   "cell_type": "code",
   "execution_count": 140,
   "metadata": {},
   "outputs": [
    {
     "data": {
      "text/plain": [
       "'There are 6 divisors: 1, 2, 3, 6, 9 and 18'"
      ]
     },
     "execution_count": 140,
     "metadata": {},
     "output_type": "execute_result"
    }
   ],
   "source": [
    "num_divisors(18)"
   ]
  },
  {
   "cell_type": "code",
   "execution_count": null,
   "metadata": {},
   "outputs": [],
   "source": []
  },
  {
   "cell_type": "code",
   "execution_count": null,
   "metadata": {},
   "outputs": [],
   "source": []
  },
  {
   "cell_type": "code",
   "execution_count": null,
   "metadata": {},
   "outputs": [],
   "source": []
  },
  {
   "cell_type": "code",
   "execution_count": null,
   "metadata": {},
   "outputs": [],
   "source": []
  },
  {
   "cell_type": "code",
   "execution_count": null,
   "metadata": {},
   "outputs": [],
   "source": []
  },
  {
   "cell_type": "code",
   "execution_count": null,
   "metadata": {},
   "outputs": [],
   "source": []
  },
  {
   "cell_type": "code",
   "execution_count": null,
   "metadata": {},
   "outputs": [],
   "source": []
  }
 ],
 "metadata": {
  "kernelspec": {
   "display_name": "Python 3",
   "language": "python",
   "name": "python3"
  },
  "language_info": {
   "codemirror_mode": {
    "name": "ipython",
    "version": 3
   },
   "file_extension": ".py",
   "mimetype": "text/x-python",
   "name": "python",
   "nbconvert_exporter": "python",
   "pygments_lexer": "ipython3",
   "version": "3.8.5"
  }
 },
 "nbformat": 4,
 "nbformat_minor": 4
}
