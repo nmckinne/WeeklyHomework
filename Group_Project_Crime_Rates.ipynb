{
 "cells": [
  {
   "cell_type": "markdown",
   "metadata": {},
   "source": [
    "# Group Project: Crime Rate Exploration\n",
    "\n",
    "Scientific Question:  How have crime rates changed across age groups over the last decade? "
   ]
  },
  {
   "cell_type": "markdown",
   "metadata": {},
   "source": [
    "# Explore Robbery Data"
   ]
  },
  {
   "cell_type": "code",
   "execution_count": 105,
   "metadata": {},
   "outputs": [],
   "source": [
    "#import all necessary modules\n",
    "import matplotlib.pyplot as plt\n",
    "import pandas as pd\n",
    "import numpy as np\n",
    "import requests\n",
    "import time\n",
    "from pprint import pprint\n",
    "\n",
    "# Import API key\n",
    "import api_keys\n",
    "\n",
    "# Get FBI API Key\n",
    "API_KEY = api_keys.fbi_api_key\n",
    "\n",
    "# base url for getting api data\n",
    "base_url = \"https://api.usa.gov/crime/fbi/sapi/\"\n",
    "#Create a list of states in order to request data from each state\n",
    "stateAbbr = ['AL','AK','AZ','AR','CA','CO','CT','DE','FL','GA','HI','ID','IL','IN','IA','KS','KY','LA','ME','MD','MA','MI','MN','MS','MO','MT','NE','NV','NH','NJ','NM','NY','NC','ND','OH','OK','OR','PA','RI','SC','SD','TN','TX','UT','VT','VA','WA','WV','WI','WY']\n",
    "#declare the offense that we want to explore\n",
    "offense = 'robbery'\n",
    "#Create a list of variables that we want to explore data for. In this case male and females\n",
    "variable = ['male','female']\n",
    "#declare the start and end year for the time period that we want to look at\n",
    "since = '2010'\n",
    "until = '2019'\n",
    "\n",
    "#create an empty dataframe\n",
    "robbery_data = pd.DataFrame(columns=[])\n",
    "\n",
    "#Create a for loop to request data for each state and for each variable for the offense that we would like to look at.\n",
    "for i in stateAbbr:\n",
    "    for j in variable:\n",
    "        desired_endpoint = \"api/arrest/states/\" + i + '/' + offense + '/' + j + '/' + since + '/' + until\n",
    "        req = requests.get(base_url + desired_endpoint+'?api_key='+API_KEY).json()\n",
    "        new = pd.DataFrame(req[\"data\"])\n",
    "        #Create new columns in the dataframe so that we know what data corresponds to each state and variable.\n",
    "        new['State'] = i\n",
    "        new['variable'] = j\n",
    "        #Append the data from each request to the dataframe\n",
    "        robbery_data = robbery_data.append(new)\n",
    "\n"
   ]
  },
  {
   "cell_type": "code",
   "execution_count": 107,
   "metadata": {},
   "outputs": [
    {
     "data": {
      "text/html": [
       "<div>\n",
       "<style scoped>\n",
       "    .dataframe tbody tr th:only-of-type {\n",
       "        vertical-align: middle;\n",
       "    }\n",
       "\n",
       "    .dataframe tbody tr th {\n",
       "        vertical-align: top;\n",
       "    }\n",
       "\n",
       "    .dataframe thead th {\n",
       "        text-align: right;\n",
       "    }\n",
       "</style>\n",
       "<table border=\"1\" class=\"dataframe\">\n",
       "  <thead>\n",
       "    <tr style=\"text-align: right;\">\n",
       "      <th></th>\n",
       "      <th>value</th>\n",
       "      <th>data_year</th>\n",
       "      <th>month_num</th>\n",
       "      <th>key</th>\n",
       "      <th>State</th>\n",
       "      <th>variable</th>\n",
       "    </tr>\n",
       "  </thead>\n",
       "  <tbody>\n",
       "    <tr>\n",
       "      <th>0</th>\n",
       "      <td>0</td>\n",
       "      <td>2010</td>\n",
       "      <td>0</td>\n",
       "      <td>10-12</td>\n",
       "      <td>AL</td>\n",
       "      <td>male</td>\n",
       "    </tr>\n",
       "    <tr>\n",
       "      <th>1</th>\n",
       "      <td>0</td>\n",
       "      <td>2011</td>\n",
       "      <td>0</td>\n",
       "      <td>10-12</td>\n",
       "      <td>AL</td>\n",
       "      <td>male</td>\n",
       "    </tr>\n",
       "    <tr>\n",
       "      <th>2</th>\n",
       "      <td>0</td>\n",
       "      <td>2012</td>\n",
       "      <td>0</td>\n",
       "      <td>10-12</td>\n",
       "      <td>AL</td>\n",
       "      <td>male</td>\n",
       "    </tr>\n",
       "    <tr>\n",
       "      <th>3</th>\n",
       "      <td>0</td>\n",
       "      <td>2013</td>\n",
       "      <td>0</td>\n",
       "      <td>10-12</td>\n",
       "      <td>AL</td>\n",
       "      <td>male</td>\n",
       "    </tr>\n",
       "    <tr>\n",
       "      <th>4</th>\n",
       "      <td>0</td>\n",
       "      <td>2014</td>\n",
       "      <td>0</td>\n",
       "      <td>10-12</td>\n",
       "      <td>AL</td>\n",
       "      <td>male</td>\n",
       "    </tr>\n",
       "  </tbody>\n",
       "</table>\n",
       "</div>"
      ],
      "text/plain": [
       "   value  data_year  month_num    key State variable\n",
       "0      0       2010          0  10-12    AL     male\n",
       "1      0       2011          0  10-12    AL     male\n",
       "2      0       2012          0  10-12    AL     male\n",
       "3      0       2013          0  10-12    AL     male\n",
       "4      0       2014          0  10-12    AL     male"
      ]
     },
     "execution_count": 107,
     "metadata": {},
     "output_type": "execute_result"
    }
   ],
   "source": [
    "robbery_data.head()"
   ]
  },
  {
   "cell_type": "markdown",
   "metadata": {},
   "source": [
    "# Explore Robberies by Age Group for Entire US"
   ]
  },
  {
   "cell_type": "code",
   "execution_count": 146,
   "metadata": {},
   "outputs": [
    {
     "data": {
      "text/html": [
       "<div>\n",
       "<style scoped>\n",
       "    .dataframe tbody tr th:only-of-type {\n",
       "        vertical-align: middle;\n",
       "    }\n",
       "\n",
       "    .dataframe tbody tr th {\n",
       "        vertical-align: top;\n",
       "    }\n",
       "\n",
       "    .dataframe thead th {\n",
       "        text-align: right;\n",
       "    }\n",
       "</style>\n",
       "<table border=\"1\" class=\"dataframe\">\n",
       "  <thead>\n",
       "    <tr style=\"text-align: right;\">\n",
       "      <th></th>\n",
       "      <th>Total Robberies</th>\n",
       "    </tr>\n",
       "    <tr>\n",
       "      <th>Age Group</th>\n",
       "      <th></th>\n",
       "    </tr>\n",
       "  </thead>\n",
       "  <tbody>\n",
       "    <tr>\n",
       "      <th>10-12</th>\n",
       "      <td>4062</td>\n",
       "    </tr>\n",
       "    <tr>\n",
       "      <th>13-14</th>\n",
       "      <td>27724</td>\n",
       "    </tr>\n",
       "    <tr>\n",
       "      <th>15</th>\n",
       "      <td>33727</td>\n",
       "    </tr>\n",
       "    <tr>\n",
       "      <th>16</th>\n",
       "      <td>45594</td>\n",
       "    </tr>\n",
       "    <tr>\n",
       "      <th>17</th>\n",
       "      <td>52597</td>\n",
       "    </tr>\n",
       "  </tbody>\n",
       "</table>\n",
       "</div>"
      ],
      "text/plain": [
       "           Total Robberies\n",
       "Age Group                 \n",
       "10-12                 4062\n",
       "13-14                27724\n",
       "15                   33727\n",
       "16                   45594\n",
       "17                   52597"
      ]
     },
     "execution_count": 146,
     "metadata": {},
     "output_type": "execute_result"
    }
   ],
   "source": [
    "# Explore Robberies by age group. \n",
    "\n",
    "Robberies_by_age = robbery_data.groupby(\"key\")\n",
    "#Robberies_by_age['value'].head()\n",
    "total_robberies_per_age_group = Robberies_by_age['value'].sum()\n",
    "#total_robberies_per_age_group.head()\n",
    "\n",
    "summary_crimes_per_age = {\"Total Robberies\": total_robberies_per_age_group}\n",
    "summarycrimes_per_age_df = pd.DataFrame(summary_crimes_per_age)\n",
    "summarycrimes_per_age_df.index.name = 'Age Group'\n",
    "summarycrimes_per_age_df.head()\n"
   ]
  },
  {
   "cell_type": "markdown",
   "metadata": {},
   "source": []
  },
  {
   "cell_type": "code",
   "execution_count": 168,
   "metadata": {},
   "outputs": [
    {
     "data": {
      "image/png": "[encoded data removed]",
      "text/plain": [
       "<Figure size 432x288 with 1 Axes>"
      ]
     },
     "metadata": {
      "needs_background": "light"
     },
     "output_type": "display_data"
    }
   ],
   "source": [
    "#Make a bar chart showing crimes per age group\n",
    "#plot = summarycrimes_per_age_df.plot(kind='bar')\n",
    "\n",
    "fig = plt.figure()\n",
    "ax = fig.add_axes([0,0,1,1])\n",
    "x=summarycrimes_per_age_df.index\n",
    "y=summarycrimes_per_age_df['Total Robberies']\n",
    "ax.bar(x,y)\n",
    "ax.set_title('Robberies by Age Group')\n",
    "ax.set_ylabel(\"Number of Robberies\")\n",
    "ax.set_xlabel(\"Age\")\n",
    "plt.xticks(rotation=90)\n",
    "plt.show()\n"
   ]
  },
  {
   "cell_type": "markdown",
   "metadata": {},
   "source": [
    "# Explore Robberies By State"
   ]
  },
  {
   "cell_type": "code",
   "execution_count": 166,
   "metadata": {},
   "outputs": [
    {
     "data": {
      "text/html": [
       "<div>\n",
       "<style scoped>\n",
       "    .dataframe tbody tr th:only-of-type {\n",
       "        vertical-align: middle;\n",
       "    }\n",
       "\n",
       "    .dataframe tbody tr th {\n",
       "        vertical-align: top;\n",
       "    }\n",
       "\n",
       "    .dataframe thead th {\n",
       "        text-align: right;\n",
       "    }\n",
       "</style>\n",
       "<table border=\"1\" class=\"dataframe\">\n",
       "  <thead>\n",
       "    <tr style=\"text-align: right;\">\n",
       "      <th></th>\n",
       "      <th>Total Robberies</th>\n",
       "    </tr>\n",
       "    <tr>\n",
       "      <th>State</th>\n",
       "      <th></th>\n",
       "    </tr>\n",
       "  </thead>\n",
       "  <tbody>\n",
       "    <tr>\n",
       "      <th>AK</th>\n",
       "      <td>2667</td>\n",
       "    </tr>\n",
       "    <tr>\n",
       "      <th>AL</th>\n",
       "      <td>5389</td>\n",
       "    </tr>\n",
       "    <tr>\n",
       "      <th>AR</th>\n",
       "      <td>5747</td>\n",
       "    </tr>\n",
       "    <tr>\n",
       "      <th>AZ</th>\n",
       "      <td>17823</td>\n",
       "    </tr>\n",
       "    <tr>\n",
       "      <th>CA</th>\n",
       "      <td>165015</td>\n",
       "    </tr>\n",
       "  </tbody>\n",
       "</table>\n",
       "</div>"
      ],
      "text/plain": [
       "       Total Robberies\n",
       "State                 \n",
       "AK                2667\n",
       "AL                5389\n",
       "AR                5747\n",
       "AZ               17823\n",
       "CA              165015"
      ]
     },
     "execution_count": 166,
     "metadata": {},
     "output_type": "execute_result"
    }
   ],
   "source": [
    "Robberies_by_state = robbery_data.groupby(\"State\")\n",
    "total_robberies_per_state = Robberies_by_state['value'].sum()\n",
    "#total_robberies_per_age_group.head()\n",
    "\n",
    "summary_crimes_per_state = {\"Total Robberies\": total_robberies_per_state}\n",
    "summarycrimes_per_state_df = pd.DataFrame(summary_crimes_per_state)\n",
    "summarycrimes_per_state_df.index.name = 'State'\n",
    "summarycrimes_per_state_df.head()"
   ]
  },
  {
   "cell_type": "code",
   "execution_count": 169,
   "metadata": {},
   "outputs": [
    {
     "data": {
      "image/png": "[encoded data removed]",
      "text/plain": [
       "<Figure size 432x288 with 1 Axes>"
      ]
     },
     "metadata": {
      "needs_background": "light"
     },
     "output_type": "display_data"
    }
   ],
   "source": [
    "#Make a bar chart showing crimes per age group\n",
    "#plot = summarycrimes_per_age_df.plot(kind='bar')\n",
    "\n",
    "fig = plt.figure()\n",
    "ax = fig.add_axes([0,0,1,1])\n",
    "x=summarycrimes_per_state_df.index\n",
    "y=summarycrimes_per_state_df['Total Robberies']\n",
    "ax.bar(x,y)\n",
    "ax.set_title('Robberies by State')\n",
    "ax.set_ylabel(\"Number of Robberies\")\n",
    "ax.set_xlabel(\"State\")\n",
    "plt.xticks(rotation=90)\n",
    "plt.show()"
   ]
  },
  {
   "cell_type": "code",
   "execution_count": null,
   "metadata": {},
   "outputs": [],
   "source": [
    "#normalize number of robberies by population\n"
   ]
  }
 ],
 "metadata": {
  "kernelspec": {
   "display_name": "Python 3",
   "language": "python",
   "name": "python3"
  },
  "language_info": {
   "codemirror_mode": {
    "name": "ipython",
    "version": 3
   },
   "file_extension": ".py",
   "mimetype": "text/x-python",
   "name": "python",
   "nbconvert_exporter": "python",
   "pygments_lexer": "ipython3",
   "version": "3.8.5"
  }
 },
 "nbformat": 4,
 "nbformat_minor": 4
}
